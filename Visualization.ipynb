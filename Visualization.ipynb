{
 "cells": [
  {
   "cell_type": "markdown",
   "metadata": {},
   "source": [
    "# Unit 4 - Practical visualisation"
   ]
  },
  {
   "cell_type": "markdown",
   "metadata": {},
   "source": [
    "## New idioms\n",
    "### preliminaries - load iris "
   ]
  },
  {
   "cell_type": "code",
   "execution_count": 1,
   "metadata": {},
   "outputs": [
    {
     "data": {
      "text/plain": [
       "dict_keys(['data', 'target', 'frame', 'target_names', 'DESCR', 'feature_names', 'filename'])"
      ]
     },
     "execution_count": 1,
     "metadata": {},
     "output_type": "execute_result"
    }
   ],
   "source": [
    "import matplotlib.pyplot as plt\n",
    "import pandas as pd\n",
    "import sklearn.datasets as data\n",
    "import numpy as np\n",
    "%matplotlib inline\n",
    "iris = data.load_iris()\n",
    "iris.keys()"
   ]
  },
  {
   "cell_type": "code",
   "execution_count": 2,
   "metadata": {},
   "outputs": [
    {
     "data": {
      "text/plain": [
       "{0: 'setosa', 1: 'versicolor', 2: 'virginica'}"
      ]
     },
     "execution_count": 2,
     "metadata": {},
     "output_type": "execute_result"
    }
   ],
   "source": [
    "irisdf = pd.DataFrame(data=iris['data'], columns=iris['feature_names'])\n",
    "irisdf['target'] = iris['target']\n",
    "target_dict = dict(zip(range(3),iris['target_names']))\n",
    "irisdf['species'] = [target_dict[int(t)] for t in iris['target']]\n",
    "target_dict"
   ]
  },
  {
   "cell_type": "code",
   "execution_count": 3,
   "metadata": {},
   "outputs": [
    {
     "data": {
      "text/html": [
       "<div>\n",
       "<style scoped>\n",
       "    .dataframe tbody tr th:only-of-type {\n",
       "        vertical-align: middle;\n",
       "    }\n",
       "\n",
       "    .dataframe tbody tr th {\n",
       "        vertical-align: top;\n",
       "    }\n",
       "\n",
       "    .dataframe thead th {\n",
       "        text-align: right;\n",
       "    }\n",
       "</style>\n",
       "<table border=\"1\" class=\"dataframe\">\n",
       "  <thead>\n",
       "    <tr style=\"text-align: right;\">\n",
       "      <th></th>\n",
       "      <th>sepal length (cm)</th>\n",
       "      <th>sepal width (cm)</th>\n",
       "      <th>petal length (cm)</th>\n",
       "      <th>petal width (cm)</th>\n",
       "      <th>target</th>\n",
       "      <th>species</th>\n",
       "    </tr>\n",
       "  </thead>\n",
       "  <tbody>\n",
       "    <tr>\n",
       "      <th>0</th>\n",
       "      <td>5.1</td>\n",
       "      <td>3.5</td>\n",
       "      <td>1.4</td>\n",
       "      <td>0.2</td>\n",
       "      <td>0</td>\n",
       "      <td>setosa</td>\n",
       "    </tr>\n",
       "    <tr>\n",
       "      <th>1</th>\n",
       "      <td>4.9</td>\n",
       "      <td>3.0</td>\n",
       "      <td>1.4</td>\n",
       "      <td>0.2</td>\n",
       "      <td>0</td>\n",
       "      <td>setosa</td>\n",
       "    </tr>\n",
       "    <tr>\n",
       "      <th>2</th>\n",
       "      <td>4.7</td>\n",
       "      <td>3.2</td>\n",
       "      <td>1.3</td>\n",
       "      <td>0.2</td>\n",
       "      <td>0</td>\n",
       "      <td>setosa</td>\n",
       "    </tr>\n",
       "    <tr>\n",
       "      <th>3</th>\n",
       "      <td>4.6</td>\n",
       "      <td>3.1</td>\n",
       "      <td>1.5</td>\n",
       "      <td>0.2</td>\n",
       "      <td>0</td>\n",
       "      <td>setosa</td>\n",
       "    </tr>\n",
       "    <tr>\n",
       "      <th>4</th>\n",
       "      <td>5.0</td>\n",
       "      <td>3.6</td>\n",
       "      <td>1.4</td>\n",
       "      <td>0.2</td>\n",
       "      <td>0</td>\n",
       "      <td>setosa</td>\n",
       "    </tr>\n",
       "    <tr>\n",
       "      <th>...</th>\n",
       "      <td>...</td>\n",
       "      <td>...</td>\n",
       "      <td>...</td>\n",
       "      <td>...</td>\n",
       "      <td>...</td>\n",
       "      <td>...</td>\n",
       "    </tr>\n",
       "    <tr>\n",
       "      <th>145</th>\n",
       "      <td>6.7</td>\n",
       "      <td>3.0</td>\n",
       "      <td>5.2</td>\n",
       "      <td>2.3</td>\n",
       "      <td>2</td>\n",
       "      <td>virginica</td>\n",
       "    </tr>\n",
       "    <tr>\n",
       "      <th>146</th>\n",
       "      <td>6.3</td>\n",
       "      <td>2.5</td>\n",
       "      <td>5.0</td>\n",
       "      <td>1.9</td>\n",
       "      <td>2</td>\n",
       "      <td>virginica</td>\n",
       "    </tr>\n",
       "    <tr>\n",
       "      <th>147</th>\n",
       "      <td>6.5</td>\n",
       "      <td>3.0</td>\n",
       "      <td>5.2</td>\n",
       "      <td>2.0</td>\n",
       "      <td>2</td>\n",
       "      <td>virginica</td>\n",
       "    </tr>\n",
       "    <tr>\n",
       "      <th>148</th>\n",
       "      <td>6.2</td>\n",
       "      <td>3.4</td>\n",
       "      <td>5.4</td>\n",
       "      <td>2.3</td>\n",
       "      <td>2</td>\n",
       "      <td>virginica</td>\n",
       "    </tr>\n",
       "    <tr>\n",
       "      <th>149</th>\n",
       "      <td>5.9</td>\n",
       "      <td>3.0</td>\n",
       "      <td>5.1</td>\n",
       "      <td>1.8</td>\n",
       "      <td>2</td>\n",
       "      <td>virginica</td>\n",
       "    </tr>\n",
       "  </tbody>\n",
       "</table>\n",
       "<p>150 rows × 6 columns</p>\n",
       "</div>"
      ],
      "text/plain": [
       "     sepal length (cm)  sepal width (cm)  petal length (cm)  petal width (cm)  \\\n",
       "0                  5.1               3.5                1.4               0.2   \n",
       "1                  4.9               3.0                1.4               0.2   \n",
       "2                  4.7               3.2                1.3               0.2   \n",
       "3                  4.6               3.1                1.5               0.2   \n",
       "4                  5.0               3.6                1.4               0.2   \n",
       "..                 ...               ...                ...               ...   \n",
       "145                6.7               3.0                5.2               2.3   \n",
       "146                6.3               2.5                5.0               1.9   \n",
       "147                6.5               3.0                5.2               2.0   \n",
       "148                6.2               3.4                5.4               2.3   \n",
       "149                5.9               3.0                5.1               1.8   \n",
       "\n",
       "     target    species  \n",
       "0         0     setosa  \n",
       "1         0     setosa  \n",
       "2         0     setosa  \n",
       "3         0     setosa  \n",
       "4         0     setosa  \n",
       "..      ...        ...  \n",
       "145       2  virginica  \n",
       "146       2  virginica  \n",
       "147       2  virginica  \n",
       "148       2  virginica  \n",
       "149       2  virginica  \n",
       "\n",
       "[150 rows x 6 columns]"
      ]
     },
     "execution_count": 3,
     "metadata": {},
     "output_type": "execute_result"
    }
   ],
   "source": [
    "irisdf"
   ]
  },
  {
   "cell_type": "markdown",
   "metadata": {},
   "source": [
    "### make figure of specific size, decorate with axis labels of specific font"
   ]
  },
  {
   "cell_type": "code",
   "execution_count": 4,
   "metadata": {},
   "outputs": [
    {
     "data": {
      "text/plain": [
       "Text(0, 0.5, 'sepal length (cm)')"
      ]
     },
     "execution_count": 4,
     "metadata": {},
     "output_type": "execute_result"
    },
    {
     "data": {
      "image/png": "[encoded data removed]",
      "text/plain": [
       "<Figure size 504x360 with 1 Axes>"
      ]
     },
     "metadata": {
      "needs_background": "light"
     },
     "output_type": "display_data"
    }
   ],
   "source": [
    "f = plt.figure(figsize=(7,5)) # makes a figure 7 inches wide, 5 inches high\n",
    "ax = f.gca() # instead of plt.gca()\n",
    "xvar = 'petal length (cm)'\n",
    "yvar = 'sepal length (cm)'\n",
    "ax.scatter(irisdf[xvar], irisdf[yvar])\n",
    "ax.set_xlabel(xvar, size=17, family='serif')\n",
    "ax.set_ylabel(yvar, size=8, family='sans serif')"
   ]
  },
  {
   "cell_type": "markdown",
   "metadata": {},
   "source": [
    "#### Task\n",
    "* Set both axis labels to 10 pt sans-serif font.\n",
    "* change figure size to 5 inches wide, 3 inches tall. "
   ]
  },
  {
   "cell_type": "code",
   "execution_count": 5,
   "metadata": {},
   "outputs": [
    {
     "data": {
      "text/plain": [
       "Text(0, 0.5, 'sepal length (cm)')"
      ]
     },
     "execution_count": 5,
     "metadata": {},
     "output_type": "execute_result"
    },
    {
     "data": {
      "image/png": "[encoded data removed]",
      "text/plain": [
       "<Figure size 360x216 with 1 Axes>"
      ]
     },
     "metadata": {
      "needs_background": "light"
     },
     "output_type": "display_data"
    }
   ],
   "source": [
    "f = plt.figure(figsize=(5,3)) # makes a figure 7 inches wide, 5 inches high\n",
    "ax = f.gca() # instead of plt.gca()\n",
    "xvar = 'petal length (cm)'\n",
    "yvar = 'sepal length (cm)'\n",
    "ax.scatter(irisdf[xvar], irisdf[yvar])\n",
    "ax.set_xlabel(xvar, size=10, family='sans serif')\n",
    "ax.set_ylabel(yvar, size=10, family='sans serif')"
   ]
  },
  {
   "cell_type": "markdown",
   "metadata": {},
   "source": [
    "### Colormaps"
   ]
  },
  {
   "cell_type": "markdown",
   "metadata": {},
   "source": [
    "We have previously seen colormaps for matrices:"
   ]
  },
  {
   "cell_type": "code",
   "execution_count": 6,
   "metadata": {},
   "outputs": [
    {
     "data": {
      "text/plain": [
       "<matplotlib.colorbar.Colorbar at 0x22f7b337460>"
      ]
     },
     "execution_count": 6,
     "metadata": {},
     "output_type": "execute_result"
    },
    {
     "data": {
      "image/png": "[encoded data removed]",
      "text/plain": [
       "<Figure size 432x288 with 2 Axes>"
      ]
     },
     "metadata": {
      "needs_background": "light"
     },
     "output_type": "display_data"
    }
   ],
   "source": [
    "mat = np.random.randn(10,15)\n",
    "f = plt.figure()\n",
    "ax = f.gca()\n",
    "img = ax.imshow(mat, cmap='seismic') # diverging colormaps, since randn varries around mean zero\n",
    "plt.colorbar(img)"
   ]
  },
  {
   "cell_type": "markdown",
   "metadata": {},
   "source": [
    "#### Centering a colormap\n",
    "\n",
    "Note that matplotlib by default chooses limits for the colormap from the minimum and the maximum of the data. This is not always desired. For example, in the above example, we know that the data is centered on zero. Zero should therefore be at the center of the colorbar.\n",
    "\n",
    "We can achieve this by explicitly passing the vmin and vmax parameters to the function:"
   ]
  },
  {
   "cell_type": "code",
   "execution_count": 7,
   "metadata": {},
   "outputs": [
    {
     "data": {
      "text/plain": [
       "<matplotlib.colorbar.Colorbar at 0x22f7b3fd760>"
      ]
     },
     "execution_count": 7,
     "metadata": {},
     "output_type": "execute_result"
    },
    {
     "data": {
      "image/png": "[encoded data removed]",
      "text/plain": [
       "<Figure size 432x288 with 2 Axes>"
      ]
     },
     "metadata": {
      "needs_background": "light"
     },
     "output_type": "display_data"
    }
   ],
   "source": [
    "f = plt.figure()\n",
    "ax = f.gca()\n",
    "# center on zero by passing identical lower and upper bounds. \n",
    "img = ax.imshow(mat, cmap='seismic', vmin=-3., vmax=3.) \n",
    "plt.colorbar(img)"
   ]
  },
  {
   "cell_type": "markdown",
   "metadata": {},
   "source": [
    "#### Colormaps and scatter plots\n",
    "Colormaps can also be applied to scatter plots. \n",
    "\n",
    "The example below uses a sequential colormap to indicate the value of the 'sepal width (cm)' feature.\n",
    "\n",
    "Note that adding a colorbar requires storing the return value of the `scatter(...)` command."
   ]
  },
  {
   "cell_type": "code",
   "execution_count": 8,
   "metadata": {},
   "outputs": [
    {
     "data": {
      "text/plain": [
       "<matplotlib.colorbar.Colorbar at 0x22f7b4b7a30>"
      ]
     },
     "execution_count": 8,
     "metadata": {},
     "output_type": "execute_result"
    },
    {
     "data": {
      "image/png": "[encoded data removed]",
      "text/plain": [
       "<Figure size 504x360 with 2 Axes>"
      ]
     },
     "metadata": {
      "needs_background": "light"
     },
     "output_type": "display_data"
    }
   ],
   "source": [
    "f = plt.figure(figsize=(7,5))\n",
    "ax = f.gca() # instead of plt.gca()\n",
    "dots = ax.scatter(irisdf['petal length (cm)'], irisdf['sepal length (cm)'],\n",
    "           c=irisdf['sepal width (cm)'],    # the 'c' parameter specifies the feature to use for coloring\n",
    "           cmap='PiYG')                     # the cmap parameter specifies the colormap\n",
    "# adding colorbar\n",
    "plt.colorbar(dots, label='sepal width (cm)')"
   ]
  },
  {
   "cell_type": "markdown",
   "metadata": {},
   "source": [
    "Similarly, we can use a diverging colormap, e.g. to indicate the target value. "
   ]
  },
  {
   "cell_type": "code",
   "execution_count": 9,
   "metadata": {},
   "outputs": [
    {
     "data": {
      "text/plain": [
       "<matplotlib.colorbar.Colorbar at 0x22f7b573c10>"
      ]
     },
     "execution_count": 9,
     "metadata": {},
     "output_type": "execute_result"
    },
    {
     "data": {
      "image/png": "[encoded data removed]",
      "text/plain": [
       "<Figure size 504x360 with 2 Axes>"
      ]
     },
     "metadata": {
      "needs_background": "light"
     },
     "output_type": "display_data"
    }
   ],
   "source": [
    "f = plt.figure(figsize=(7,5))\n",
    "ax = f.gca() # instead of plt.gca()\n",
    "dots = ax.scatter(irisdf['petal length (cm)'], irisdf['sepal length (cm)'],\n",
    "           c=irisdf['target'],    # the 'c' parameter specifies the feature to use for coloring\n",
    "           cmap='jet')                     # the cmap parameter specifies the colormap\n",
    "# adding colorbar\n",
    "plt.colorbar(dots, label='target')"
   ]
  },
  {
   "cell_type": "markdown",
   "metadata": {},
   "source": [
    "Obviously, the colorbar makes little sense here. The example was mainly added for the sake of completeness. \n",
    "\n",
    "Instead, we should to use a legend. The matplotlib `legend` command is quite smart and can infer all required information from a plot. However, we need to make three tweaks:\n",
    "1. add \"label\" information to the plotted dots.\n",
    "2. use the `plot` command instead of `scatter`, since the latter doesn't support the \"label\" parameter.\n",
    "3. add the different species separately since only one label can be specified per plot command."
   ]
  },
  {
   "cell_type": "code",
   "execution_count": 10,
   "metadata": {},
   "outputs": [
    {
     "data": {
      "text/plain": [
       "<matplotlib.legend.Legend at 0x22f7b628580>"
      ]
     },
     "execution_count": 10,
     "metadata": {},
     "output_type": "execute_result"
    },
    {
     "data": {
      "image/png": "[encoded data removed]",
      "text/plain": [
       "<Figure size 504x360 with 1 Axes>"
      ]
     },
     "metadata": {
      "needs_background": "light"
     },
     "output_type": "display_data"
    }
   ],
   "source": [
    "f = plt.figure(figsize=(7,5))\n",
    "ax = f.gca() # instead of plt.gca()\n",
    "for lab,c in zip(iris['target_names'], ['red', 'green', 'blue']): #loop over species\n",
    "    ax.plot(irisdf['petal length (cm)'][irisdf['species']==lab], \n",
    "            irisdf['sepal length (cm)'][irisdf['species']==lab],\n",
    "            color=c,    # specifies the color\n",
    "            marker='o', # specifies the marker\n",
    "            linestyle='', # orevents drawing a line\n",
    "            label=lab) # adds label information to the dots\n",
    "ax.legend()"
   ]
  },
  {
   "cell_type": "markdown",
   "metadata": {},
   "source": [
    "## Brain networks\n",
    "\n",
    "The \"Brain Networks\" dataset contains the activity of 62 brain regions of 920 time points. Neuroscientists are interested in the correlation between the activities in different brain areas. This tells them which brain areas are potentially connected. Such insight allows conclusions about how the brain works, which is at the heart of neuroscience.\n",
    "\n",
    "Here, we will analyse the correlation between those time series. The dataset is available on Canvas (\"brain_networks.csv\").\n",
    "\n",
    "First we load the data set.\n",
    "\n",
    "This dataset has three header rows (0, 1 and 2) and one index column.\n",
    "\n",
    "The highest level is the brain network, the middle level the brain node, and the lowest level is the hemishpese (left or right hemisphere). We use the `df.head` function to display the top 15 rows of the dataset."
   ]
  },
  {
   "cell_type": "code",
   "execution_count": 11,
   "metadata": {},
   "outputs": [
    {
     "data": {
      "text/html": [
       "<div>\n",
       "<style scoped>\n",
       "    .dataframe tbody tr th:only-of-type {\n",
       "        vertical-align: middle;\n",
       "    }\n",
       "\n",
       "    .dataframe tbody tr th {\n",
       "        vertical-align: top;\n",
       "    }\n",
       "\n",
       "    .dataframe thead tr th {\n",
       "        text-align: left;\n",
       "    }\n",
       "</style>\n",
       "<table border=\"1\" class=\"dataframe\">\n",
       "  <thead>\n",
       "    <tr>\n",
       "      <th>network</th>\n",
       "      <th colspan=\"2\" halign=\"left\">1</th>\n",
       "      <th colspan=\"2\" halign=\"left\">2</th>\n",
       "      <th colspan=\"2\" halign=\"left\">3</th>\n",
       "      <th colspan=\"2\" halign=\"left\">4</th>\n",
       "      <th colspan=\"2\" halign=\"left\">5</th>\n",
       "      <th>...</th>\n",
       "      <th colspan=\"3\" halign=\"left\">16</th>\n",
       "      <th colspan=\"7\" halign=\"left\">17</th>\n",
       "    </tr>\n",
       "    <tr>\n",
       "      <th>node</th>\n",
       "      <th colspan=\"2\" halign=\"left\">1</th>\n",
       "      <th colspan=\"2\" halign=\"left\">1</th>\n",
       "      <th colspan=\"2\" halign=\"left\">1</th>\n",
       "      <th colspan=\"2\" halign=\"left\">1</th>\n",
       "      <th colspan=\"2\" halign=\"left\">1</th>\n",
       "      <th>...</th>\n",
       "      <th>3</th>\n",
       "      <th colspan=\"2\" halign=\"left\">4</th>\n",
       "      <th colspan=\"2\" halign=\"left\">1</th>\n",
       "      <th colspan=\"2\" halign=\"left\">2</th>\n",
       "      <th colspan=\"2\" halign=\"left\">3</th>\n",
       "      <th>4</th>\n",
       "    </tr>\n",
       "    <tr>\n",
       "      <th>hemi</th>\n",
       "      <th>lh</th>\n",
       "      <th>rh</th>\n",
       "      <th>lh</th>\n",
       "      <th>rh</th>\n",
       "      <th>lh</th>\n",
       "      <th>rh</th>\n",
       "      <th>lh</th>\n",
       "      <th>rh</th>\n",
       "      <th>lh</th>\n",
       "      <th>rh</th>\n",
       "      <th>...</th>\n",
       "      <th>rh</th>\n",
       "      <th>lh</th>\n",
       "      <th>rh</th>\n",
       "      <th>lh</th>\n",
       "      <th>rh</th>\n",
       "      <th>lh</th>\n",
       "      <th>rh</th>\n",
       "      <th>lh</th>\n",
       "      <th>rh</th>\n",
       "      <th>lh</th>\n",
       "    </tr>\n",
       "  </thead>\n",
       "  <tbody>\n",
       "    <tr>\n",
       "      <th>0</th>\n",
       "      <td>56.055744</td>\n",
       "      <td>92.031036</td>\n",
       "      <td>3.391576</td>\n",
       "      <td>38.659683</td>\n",
       "      <td>26.203819</td>\n",
       "      <td>-49.715569</td>\n",
       "      <td>47.461037</td>\n",
       "      <td>26.746613</td>\n",
       "      <td>-35.898861</td>\n",
       "      <td>-1.889181</td>\n",
       "      <td>...</td>\n",
       "      <td>0.607904</td>\n",
       "      <td>-70.270546</td>\n",
       "      <td>77.365776</td>\n",
       "      <td>-21.734550</td>\n",
       "      <td>1.028253</td>\n",
       "      <td>7.791784</td>\n",
       "      <td>68.903725</td>\n",
       "      <td>-10.520872</td>\n",
       "      <td>120.490463</td>\n",
       "      <td>-39.686432</td>\n",
       "    </tr>\n",
       "    <tr>\n",
       "      <th>1</th>\n",
       "      <td>55.547253</td>\n",
       "      <td>43.690075</td>\n",
       "      <td>-65.495987</td>\n",
       "      <td>-13.974523</td>\n",
       "      <td>-28.274963</td>\n",
       "      <td>-39.050129</td>\n",
       "      <td>-1.210660</td>\n",
       "      <td>-19.012897</td>\n",
       "      <td>19.568010</td>\n",
       "      <td>15.902983</td>\n",
       "      <td>...</td>\n",
       "      <td>57.495071</td>\n",
       "      <td>-76.393219</td>\n",
       "      <td>127.261360</td>\n",
       "      <td>-13.035799</td>\n",
       "      <td>46.381824</td>\n",
       "      <td>-15.752450</td>\n",
       "      <td>31.000332</td>\n",
       "      <td>-39.607521</td>\n",
       "      <td>24.764011</td>\n",
       "      <td>-36.771008</td>\n",
       "    </tr>\n",
       "    <tr>\n",
       "      <th>2</th>\n",
       "      <td>60.997768</td>\n",
       "      <td>63.438793</td>\n",
       "      <td>-51.108582</td>\n",
       "      <td>-13.561346</td>\n",
       "      <td>-18.842947</td>\n",
       "      <td>-1.214659</td>\n",
       "      <td>-65.575806</td>\n",
       "      <td>-85.777428</td>\n",
       "      <td>19.247454</td>\n",
       "      <td>37.209419</td>\n",
       "      <td>...</td>\n",
       "      <td>28.317369</td>\n",
       "      <td>9.063977</td>\n",
       "      <td>45.493263</td>\n",
       "      <td>26.033442</td>\n",
       "      <td>34.212200</td>\n",
       "      <td>1.326110</td>\n",
       "      <td>-22.580757</td>\n",
       "      <td>12.985169</td>\n",
       "      <td>-75.027451</td>\n",
       "      <td>6.434262</td>\n",
       "    </tr>\n",
       "    <tr>\n",
       "      <th>3</th>\n",
       "      <td>18.514868</td>\n",
       "      <td>12.657158</td>\n",
       "      <td>-34.576603</td>\n",
       "      <td>-32.665958</td>\n",
       "      <td>-7.420454</td>\n",
       "      <td>17.119448</td>\n",
       "      <td>-41.800869</td>\n",
       "      <td>-58.610184</td>\n",
       "      <td>32.896915</td>\n",
       "      <td>11.199619</td>\n",
       "      <td>...</td>\n",
       "      <td>71.439629</td>\n",
       "      <td>65.842979</td>\n",
       "      <td>-10.697547</td>\n",
       "      <td>55.297466</td>\n",
       "      <td>4.255006</td>\n",
       "      <td>-2.420144</td>\n",
       "      <td>12.098393</td>\n",
       "      <td>-15.819172</td>\n",
       "      <td>-37.361431</td>\n",
       "      <td>-4.650954</td>\n",
       "    </tr>\n",
       "    <tr>\n",
       "      <th>4</th>\n",
       "      <td>-2.527392</td>\n",
       "      <td>-63.104668</td>\n",
       "      <td>-13.814151</td>\n",
       "      <td>-15.837989</td>\n",
       "      <td>-45.216927</td>\n",
       "      <td>3.483550</td>\n",
       "      <td>-62.613335</td>\n",
       "      <td>-49.076508</td>\n",
       "      <td>18.396759</td>\n",
       "      <td>3.219077</td>\n",
       "      <td>...</td>\n",
       "      <td>95.597565</td>\n",
       "      <td>50.960453</td>\n",
       "      <td>-23.197300</td>\n",
       "      <td>43.067562</td>\n",
       "      <td>52.219875</td>\n",
       "      <td>28.232882</td>\n",
       "      <td>-11.719750</td>\n",
       "      <td>5.453649</td>\n",
       "      <td>5.169828</td>\n",
       "      <td>87.809135</td>\n",
       "    </tr>\n",
       "    <tr>\n",
       "      <th>5</th>\n",
       "      <td>-24.906792</td>\n",
       "      <td>-51.191895</td>\n",
       "      <td>-29.867994</td>\n",
       "      <td>-27.840294</td>\n",
       "      <td>-24.455107</td>\n",
       "      <td>47.115761</td>\n",
       "      <td>-48.462822</td>\n",
       "      <td>-35.409416</td>\n",
       "      <td>-15.900566</td>\n",
       "      <td>18.471722</td>\n",
       "      <td>...</td>\n",
       "      <td>71.707077</td>\n",
       "      <td>108.209824</td>\n",
       "      <td>-38.985954</td>\n",
       "      <td>56.435616</td>\n",
       "      <td>11.073356</td>\n",
       "      <td>22.712286</td>\n",
       "      <td>-24.315147</td>\n",
       "      <td>11.061020</td>\n",
       "      <td>-51.896252</td>\n",
       "      <td>63.123184</td>\n",
       "    </tr>\n",
       "    <tr>\n",
       "      <th>6</th>\n",
       "      <td>17.273710</td>\n",
       "      <td>0.540083</td>\n",
       "      <td>18.649370</td>\n",
       "      <td>-9.105489</td>\n",
       "      <td>-2.117226</td>\n",
       "      <td>87.957710</td>\n",
       "      <td>-16.892422</td>\n",
       "      <td>-30.359053</td>\n",
       "      <td>31.080502</td>\n",
       "      <td>-23.428696</td>\n",
       "      <td>...</td>\n",
       "      <td>21.220881</td>\n",
       "      <td>112.865852</td>\n",
       "      <td>-11.026081</td>\n",
       "      <td>43.089622</td>\n",
       "      <td>18.862913</td>\n",
       "      <td>58.889000</td>\n",
       "      <td>-48.427845</td>\n",
       "      <td>-1.968677</td>\n",
       "      <td>-88.800560</td>\n",
       "      <td>79.816612</td>\n",
       "    </tr>\n",
       "    <tr>\n",
       "      <th>7</th>\n",
       "      <td>20.712934</td>\n",
       "      <td>10.650232</td>\n",
       "      <td>9.156902</td>\n",
       "      <td>-15.880466</td>\n",
       "      <td>1.948806</td>\n",
       "      <td>51.916603</td>\n",
       "      <td>-23.105467</td>\n",
       "      <td>-10.486548</td>\n",
       "      <td>46.230053</td>\n",
       "      <td>1.649448</td>\n",
       "      <td>...</td>\n",
       "      <td>1.960933</td>\n",
       "      <td>128.105240</td>\n",
       "      <td>-20.091087</td>\n",
       "      <td>70.872963</td>\n",
       "      <td>5.356585</td>\n",
       "      <td>2.463416</td>\n",
       "      <td>-71.227463</td>\n",
       "      <td>-23.842552</td>\n",
       "      <td>-81.412552</td>\n",
       "      <td>41.046146</td>\n",
       "    </tr>\n",
       "    <tr>\n",
       "      <th>8</th>\n",
       "      <td>48.215309</td>\n",
       "      <td>46.369450</td>\n",
       "      <td>30.311281</td>\n",
       "      <td>21.030554</td>\n",
       "      <td>-14.135849</td>\n",
       "      <td>13.317879</td>\n",
       "      <td>24.965271</td>\n",
       "      <td>22.771103</td>\n",
       "      <td>16.624685</td>\n",
       "      <td>38.645073</td>\n",
       "      <td>...</td>\n",
       "      <td>-62.801281</td>\n",
       "      <td>28.770023</td>\n",
       "      <td>16.215826</td>\n",
       "      <td>-2.414807</td>\n",
       "      <td>-25.556829</td>\n",
       "      <td>-27.571753</td>\n",
       "      <td>-8.465719</td>\n",
       "      <td>-61.064312</td>\n",
       "      <td>-17.901937</td>\n",
       "      <td>-19.341841</td>\n",
       "    </tr>\n",
       "    <tr>\n",
       "      <th>9</th>\n",
       "      <td>2.632546</td>\n",
       "      <td>33.998898</td>\n",
       "      <td>8.142659</td>\n",
       "      <td>42.572460</td>\n",
       "      <td>0.644133</td>\n",
       "      <td>9.879410</td>\n",
       "      <td>29.575994</td>\n",
       "      <td>30.350441</td>\n",
       "      <td>4.341114</td>\n",
       "      <td>28.691851</td>\n",
       "      <td>...</td>\n",
       "      <td>22.890541</td>\n",
       "      <td>-39.991383</td>\n",
       "      <td>43.338600</td>\n",
       "      <td>-14.897267</td>\n",
       "      <td>39.848324</td>\n",
       "      <td>16.728914</td>\n",
       "      <td>73.404282</td>\n",
       "      <td>-39.646431</td>\n",
       "      <td>53.437145</td>\n",
       "      <td>-5.465957</td>\n",
       "    </tr>\n",
       "    <tr>\n",
       "      <th>10</th>\n",
       "      <td>25.925964</td>\n",
       "      <td>-15.774749</td>\n",
       "      <td>54.659813</td>\n",
       "      <td>80.348549</td>\n",
       "      <td>27.536982</td>\n",
       "      <td>47.937374</td>\n",
       "      <td>42.101318</td>\n",
       "      <td>49.025600</td>\n",
       "      <td>-5.077273</td>\n",
       "      <td>-28.578943</td>\n",
       "      <td>...</td>\n",
       "      <td>2.036250</td>\n",
       "      <td>-52.860115</td>\n",
       "      <td>47.748283</td>\n",
       "      <td>-18.635521</td>\n",
       "      <td>43.819660</td>\n",
       "      <td>5.793301</td>\n",
       "      <td>101.111610</td>\n",
       "      <td>-23.737103</td>\n",
       "      <td>21.514263</td>\n",
       "      <td>-10.237661</td>\n",
       "    </tr>\n",
       "    <tr>\n",
       "      <th>11</th>\n",
       "      <td>-56.421814</td>\n",
       "      <td>-74.313713</td>\n",
       "      <td>-22.430784</td>\n",
       "      <td>22.268995</td>\n",
       "      <td>29.032286</td>\n",
       "      <td>73.269424</td>\n",
       "      <td>24.101446</td>\n",
       "      <td>41.093948</td>\n",
       "      <td>-38.175583</td>\n",
       "      <td>-5.696390</td>\n",
       "      <td>...</td>\n",
       "      <td>29.318686</td>\n",
       "      <td>11.448578</td>\n",
       "      <td>81.840347</td>\n",
       "      <td>7.765820</td>\n",
       "      <td>29.006664</td>\n",
       "      <td>-0.320702</td>\n",
       "      <td>16.183874</td>\n",
       "      <td>-30.088570</td>\n",
       "      <td>17.721596</td>\n",
       "      <td>0.308373</td>\n",
       "    </tr>\n",
       "    <tr>\n",
       "      <th>12</th>\n",
       "      <td>-20.486719</td>\n",
       "      <td>-18.707275</td>\n",
       "      <td>-8.405787</td>\n",
       "      <td>10.911598</td>\n",
       "      <td>6.834342</td>\n",
       "      <td>33.627548</td>\n",
       "      <td>8.794911</td>\n",
       "      <td>6.194620</td>\n",
       "      <td>-16.169006</td>\n",
       "      <td>-16.451103</td>\n",
       "      <td>...</td>\n",
       "      <td>-34.897839</td>\n",
       "      <td>26.061226</td>\n",
       "      <td>58.972008</td>\n",
       "      <td>-11.258547</td>\n",
       "      <td>18.986279</td>\n",
       "      <td>22.827385</td>\n",
       "      <td>20.753315</td>\n",
       "      <td>-15.757209</td>\n",
       "      <td>55.468868</td>\n",
       "      <td>-14.726717</td>\n",
       "    </tr>\n",
       "    <tr>\n",
       "      <th>13</th>\n",
       "      <td>-29.466019</td>\n",
       "      <td>-38.972973</td>\n",
       "      <td>-44.623367</td>\n",
       "      <td>-15.115207</td>\n",
       "      <td>-12.154548</td>\n",
       "      <td>-7.261045</td>\n",
       "      <td>-8.790039</td>\n",
       "      <td>-14.007578</td>\n",
       "      <td>6.017861</td>\n",
       "      <td>0.070593</td>\n",
       "      <td>...</td>\n",
       "      <td>54.615002</td>\n",
       "      <td>50.747589</td>\n",
       "      <td>67.938797</td>\n",
       "      <td>6.480777</td>\n",
       "      <td>47.148136</td>\n",
       "      <td>-25.272585</td>\n",
       "      <td>20.936165</td>\n",
       "      <td>-6.511287</td>\n",
       "      <td>-3.771934</td>\n",
       "      <td>19.261005</td>\n",
       "    </tr>\n",
       "    <tr>\n",
       "      <th>14</th>\n",
       "      <td>-4.389784</td>\n",
       "      <td>-47.513359</td>\n",
       "      <td>37.163383</td>\n",
       "      <td>-2.465017</td>\n",
       "      <td>1.309325</td>\n",
       "      <td>-23.852072</td>\n",
       "      <td>-3.335904</td>\n",
       "      <td>-2.885546</td>\n",
       "      <td>20.038055</td>\n",
       "      <td>-8.326096</td>\n",
       "      <td>...</td>\n",
       "      <td>26.069582</td>\n",
       "      <td>27.101244</td>\n",
       "      <td>26.140882</td>\n",
       "      <td>-17.397573</td>\n",
       "      <td>-34.135857</td>\n",
       "      <td>-30.779995</td>\n",
       "      <td>19.289812</td>\n",
       "      <td>28.448133</td>\n",
       "      <td>20.783665</td>\n",
       "      <td>-19.764381</td>\n",
       "    </tr>\n",
       "  </tbody>\n",
       "</table>\n",
       "<p>15 rows × 62 columns</p>\n",
       "</div>"
      ],
      "text/plain": [
       "network          1                     2                     3             \\\n",
       "node             1                     1                     1              \n",
       "hemi            lh         rh         lh         rh         lh         rh   \n",
       "0        56.055744  92.031036   3.391576  38.659683  26.203819 -49.715569   \n",
       "1        55.547253  43.690075 -65.495987 -13.974523 -28.274963 -39.050129   \n",
       "2        60.997768  63.438793 -51.108582 -13.561346 -18.842947  -1.214659   \n",
       "3        18.514868  12.657158 -34.576603 -32.665958  -7.420454  17.119448   \n",
       "4        -2.527392 -63.104668 -13.814151 -15.837989 -45.216927   3.483550   \n",
       "5       -24.906792 -51.191895 -29.867994 -27.840294 -24.455107  47.115761   \n",
       "6        17.273710   0.540083  18.649370  -9.105489  -2.117226  87.957710   \n",
       "7        20.712934  10.650232   9.156902 -15.880466   1.948806  51.916603   \n",
       "8        48.215309  46.369450  30.311281  21.030554 -14.135849  13.317879   \n",
       "9         2.632546  33.998898   8.142659  42.572460   0.644133   9.879410   \n",
       "10       25.925964 -15.774749  54.659813  80.348549  27.536982  47.937374   \n",
       "11      -56.421814 -74.313713 -22.430784  22.268995  29.032286  73.269424   \n",
       "12      -20.486719 -18.707275  -8.405787  10.911598   6.834342  33.627548   \n",
       "13      -29.466019 -38.972973 -44.623367 -15.115207 -12.154548  -7.261045   \n",
       "14       -4.389784 -47.513359  37.163383  -2.465017   1.309325 -23.852072   \n",
       "\n",
       "network          4                     5             ...         16  \\\n",
       "node             1                     1             ...          3   \n",
       "hemi            lh         rh         lh         rh  ...         rh   \n",
       "0        47.461037  26.746613 -35.898861  -1.889181  ...   0.607904   \n",
       "1        -1.210660 -19.012897  19.568010  15.902983  ...  57.495071   \n",
       "2       -65.575806 -85.777428  19.247454  37.209419  ...  28.317369   \n",
       "3       -41.800869 -58.610184  32.896915  11.199619  ...  71.439629   \n",
       "4       -62.613335 -49.076508  18.396759   3.219077  ...  95.597565   \n",
       "5       -48.462822 -35.409416 -15.900566  18.471722  ...  71.707077   \n",
       "6       -16.892422 -30.359053  31.080502 -23.428696  ...  21.220881   \n",
       "7       -23.105467 -10.486548  46.230053   1.649448  ...   1.960933   \n",
       "8        24.965271  22.771103  16.624685  38.645073  ... -62.801281   \n",
       "9        29.575994  30.350441   4.341114  28.691851  ...  22.890541   \n",
       "10       42.101318  49.025600  -5.077273 -28.578943  ...   2.036250   \n",
       "11       24.101446  41.093948 -38.175583  -5.696390  ...  29.318686   \n",
       "12        8.794911   6.194620 -16.169006 -16.451103  ... -34.897839   \n",
       "13       -8.790039 -14.007578   6.017861   0.070593  ...  54.615002   \n",
       "14       -3.335904  -2.885546  20.038055  -8.326096  ...  26.069582   \n",
       "\n",
       "network                                 17                                    \\\n",
       "node              4                      1                     2               \n",
       "hemi             lh          rh         lh         rh         lh          rh   \n",
       "0        -70.270546   77.365776 -21.734550   1.028253   7.791784   68.903725   \n",
       "1        -76.393219  127.261360 -13.035799  46.381824 -15.752450   31.000332   \n",
       "2          9.063977   45.493263  26.033442  34.212200   1.326110  -22.580757   \n",
       "3         65.842979  -10.697547  55.297466   4.255006  -2.420144   12.098393   \n",
       "4         50.960453  -23.197300  43.067562  52.219875  28.232882  -11.719750   \n",
       "5        108.209824  -38.985954  56.435616  11.073356  22.712286  -24.315147   \n",
       "6        112.865852  -11.026081  43.089622  18.862913  58.889000  -48.427845   \n",
       "7        128.105240  -20.091087  70.872963   5.356585   2.463416  -71.227463   \n",
       "8         28.770023   16.215826  -2.414807 -25.556829 -27.571753   -8.465719   \n",
       "9        -39.991383   43.338600 -14.897267  39.848324  16.728914   73.404282   \n",
       "10       -52.860115   47.748283 -18.635521  43.819660   5.793301  101.111610   \n",
       "11        11.448578   81.840347   7.765820  29.006664  -0.320702   16.183874   \n",
       "12        26.061226   58.972008 -11.258547  18.986279  22.827385   20.753315   \n",
       "13        50.747589   67.938797   6.480777  47.148136 -25.272585   20.936165   \n",
       "14        27.101244   26.140882 -17.397573 -34.135857 -30.779995   19.289812   \n",
       "\n",
       "network                                    \n",
       "node             3                      4  \n",
       "hemi            lh          rh         lh  \n",
       "0       -10.520872  120.490463 -39.686432  \n",
       "1       -39.607521   24.764011 -36.771008  \n",
       "2        12.985169  -75.027451   6.434262  \n",
       "3       -15.819172  -37.361431  -4.650954  \n",
       "4         5.453649    5.169828  87.809135  \n",
       "5        11.061020  -51.896252  63.123184  \n",
       "6        -1.968677  -88.800560  79.816612  \n",
       "7       -23.842552  -81.412552  41.046146  \n",
       "8       -61.064312  -17.901937 -19.341841  \n",
       "9       -39.646431   53.437145  -5.465957  \n",
       "10      -23.737103   21.514263 -10.237661  \n",
       "11      -30.088570   17.721596   0.308373  \n",
       "12      -15.757209   55.468868 -14.726717  \n",
       "13       -6.511287   -3.771934  19.261005  \n",
       "14       28.448133   20.783665 -19.764381  \n",
       "\n",
       "[15 rows x 62 columns]"
      ]
     },
     "execution_count": 11,
     "metadata": {},
     "output_type": "execute_result"
    }
   ],
   "source": [
    "import pandas as pd\n",
    "\n",
    "# Load the brain networks example dataset\n",
    "df = pd.read_csv('brain_networks.csv', header=[0, 1, 2], index_col=0)\n",
    "df.head(15)\n"
   ]
  },
  {
   "cell_type": "markdown",
   "metadata": {},
   "source": [
    "Let's calculate the correlation between brain networks. Correlation is similar to covariance, except that it also takes the series' standard deviation into account.\n",
    "\n",
    "Remember the equation for covariance:\n",
    "\n",
    "\\begin{equation*}\n",
    "cov(\\mathbf{x},\\mathbf{y}) = \\frac{\\sum_i \\left(x_i-\\langle x\\rangle \\right) \\left(y_i-\\langle y\\rangle \\right)}{n} \n",
    "\\end{equation*}\n",
    "\n",
    "with $\\langle x \\rangle$ denoting the mean of $x$.\n",
    "\n",
    "Correlation is the covariance divided by the product of the two standard deviations:\n",
    "\n",
    "\\begin{equation*}\n",
    "corr(\\mathbf{x},\\mathbf{y}) = \\frac{\\sum_i \\left(x_i-\\langle x\\rangle \\right) \\left(y_i-\\langle y\\rangle \\right)}\n",
    "{n \\cdot \\sigma_x \\cdot \\sigma_y} \n",
    "\\end{equation*}\n",
    "\n",
    "Note that in case of unit variance, like after normalisation of the variables using `sklearn.StandardScaler`, both standard deviations will be one and therefore correlation will be equal to covariance. \n",
    "\n",
    "We can compute the correlation matrix of a dataframe using the following:"
   ]
  },
  {
   "cell_type": "code",
   "execution_count": 12,
   "metadata": {},
   "outputs": [
    {
     "data": {
      "text/html": [
       "<div>\n",
       "<style scoped>\n",
       "    .dataframe tbody tr th:only-of-type {\n",
       "        vertical-align: middle;\n",
       "    }\n",
       "\n",
       "    .dataframe tbody tr th {\n",
       "        vertical-align: top;\n",
       "    }\n",
       "\n",
       "    .dataframe thead tr th {\n",
       "        text-align: left;\n",
       "    }\n",
       "\n",
       "    .dataframe thead tr:last-of-type th {\n",
       "        text-align: right;\n",
       "    }\n",
       "</style>\n",
       "<table border=\"1\" class=\"dataframe\">\n",
       "  <thead>\n",
       "    <tr>\n",
       "      <th></th>\n",
       "      <th></th>\n",
       "      <th>network</th>\n",
       "      <th colspan=\"2\" halign=\"left\">1</th>\n",
       "      <th colspan=\"2\" halign=\"left\">2</th>\n",
       "      <th colspan=\"2\" halign=\"left\">3</th>\n",
       "      <th colspan=\"2\" halign=\"left\">4</th>\n",
       "      <th colspan=\"2\" halign=\"left\">5</th>\n",
       "      <th>...</th>\n",
       "      <th colspan=\"3\" halign=\"left\">16</th>\n",
       "      <th colspan=\"7\" halign=\"left\">17</th>\n",
       "    </tr>\n",
       "    <tr>\n",
       "      <th></th>\n",
       "      <th></th>\n",
       "      <th>node</th>\n",
       "      <th colspan=\"2\" halign=\"left\">1</th>\n",
       "      <th colspan=\"2\" halign=\"left\">1</th>\n",
       "      <th colspan=\"2\" halign=\"left\">1</th>\n",
       "      <th colspan=\"2\" halign=\"left\">1</th>\n",
       "      <th colspan=\"2\" halign=\"left\">1</th>\n",
       "      <th>...</th>\n",
       "      <th>3</th>\n",
       "      <th colspan=\"2\" halign=\"left\">4</th>\n",
       "      <th colspan=\"2\" halign=\"left\">1</th>\n",
       "      <th colspan=\"2\" halign=\"left\">2</th>\n",
       "      <th colspan=\"2\" halign=\"left\">3</th>\n",
       "      <th>4</th>\n",
       "    </tr>\n",
       "    <tr>\n",
       "      <th></th>\n",
       "      <th></th>\n",
       "      <th>hemi</th>\n",
       "      <th>lh</th>\n",
       "      <th>rh</th>\n",
       "      <th>lh</th>\n",
       "      <th>rh</th>\n",
       "      <th>lh</th>\n",
       "      <th>rh</th>\n",
       "      <th>lh</th>\n",
       "      <th>rh</th>\n",
       "      <th>lh</th>\n",
       "      <th>rh</th>\n",
       "      <th>...</th>\n",
       "      <th>rh</th>\n",
       "      <th>lh</th>\n",
       "      <th>rh</th>\n",
       "      <th>lh</th>\n",
       "      <th>rh</th>\n",
       "      <th>lh</th>\n",
       "      <th>rh</th>\n",
       "      <th>lh</th>\n",
       "      <th>rh</th>\n",
       "      <th>lh</th>\n",
       "    </tr>\n",
       "    <tr>\n",
       "      <th>network</th>\n",
       "      <th>node</th>\n",
       "      <th>hemi</th>\n",
       "      <th></th>\n",
       "      <th></th>\n",
       "      <th></th>\n",
       "      <th></th>\n",
       "      <th></th>\n",
       "      <th></th>\n",
       "      <th></th>\n",
       "      <th></th>\n",
       "      <th></th>\n",
       "      <th></th>\n",
       "      <th></th>\n",
       "      <th></th>\n",
       "      <th></th>\n",
       "      <th></th>\n",
       "      <th></th>\n",
       "      <th></th>\n",
       "      <th></th>\n",
       "      <th></th>\n",
       "      <th></th>\n",
       "      <th></th>\n",
       "      <th></th>\n",
       "    </tr>\n",
       "  </thead>\n",
       "  <tbody>\n",
       "    <tr>\n",
       "      <th rowspan=\"2\" valign=\"top\">1</th>\n",
       "      <th rowspan=\"2\" valign=\"top\">1</th>\n",
       "      <th>lh</th>\n",
       "      <td>1.000000</td>\n",
       "      <td>0.881516</td>\n",
       "      <td>-0.042699</td>\n",
       "      <td>-0.074437</td>\n",
       "      <td>-0.342849</td>\n",
       "      <td>-0.169498</td>\n",
       "      <td>-0.373050</td>\n",
       "      <td>-0.361726</td>\n",
       "      <td>0.431619</td>\n",
       "      <td>0.418708</td>\n",
       "      <td>...</td>\n",
       "      <td>-0.106642</td>\n",
       "      <td>-0.162254</td>\n",
       "      <td>-0.232501</td>\n",
       "      <td>-0.099781</td>\n",
       "      <td>-0.161649</td>\n",
       "      <td>-0.206379</td>\n",
       "      <td>-0.212601</td>\n",
       "      <td>-0.142770</td>\n",
       "      <td>-0.204326</td>\n",
       "      <td>-0.219283</td>\n",
       "    </tr>\n",
       "    <tr>\n",
       "      <th>rh</th>\n",
       "      <td>0.881516</td>\n",
       "      <td>1.000000</td>\n",
       "      <td>0.013073</td>\n",
       "      <td>0.033733</td>\n",
       "      <td>-0.351509</td>\n",
       "      <td>-0.162006</td>\n",
       "      <td>-0.333244</td>\n",
       "      <td>-0.337476</td>\n",
       "      <td>0.431953</td>\n",
       "      <td>0.519916</td>\n",
       "      <td>...</td>\n",
       "      <td>-0.173530</td>\n",
       "      <td>-0.224436</td>\n",
       "      <td>-0.277954</td>\n",
       "      <td>-0.212964</td>\n",
       "      <td>-0.262915</td>\n",
       "      <td>-0.273370</td>\n",
       "      <td>-0.266456</td>\n",
       "      <td>-0.174222</td>\n",
       "      <td>-0.223572</td>\n",
       "      <td>-0.273626</td>\n",
       "    </tr>\n",
       "    <tr>\n",
       "      <th rowspan=\"2\" valign=\"top\">2</th>\n",
       "      <th rowspan=\"2\" valign=\"top\">1</th>\n",
       "      <th>lh</th>\n",
       "      <td>-0.042699</td>\n",
       "      <td>0.013073</td>\n",
       "      <td>1.000000</td>\n",
       "      <td>0.813394</td>\n",
       "      <td>-0.006940</td>\n",
       "      <td>-0.039375</td>\n",
       "      <td>-0.019773</td>\n",
       "      <td>0.007099</td>\n",
       "      <td>-0.147374</td>\n",
       "      <td>-0.104164</td>\n",
       "      <td>...</td>\n",
       "      <td>-0.215429</td>\n",
       "      <td>-0.239876</td>\n",
       "      <td>-0.093679</td>\n",
       "      <td>-0.240455</td>\n",
       "      <td>-0.190721</td>\n",
       "      <td>-0.151724</td>\n",
       "      <td>-0.124508</td>\n",
       "      <td>-0.179912</td>\n",
       "      <td>-0.044706</td>\n",
       "      <td>-0.209557</td>\n",
       "    </tr>\n",
       "    <tr>\n",
       "      <th>rh</th>\n",
       "      <td>-0.074437</td>\n",
       "      <td>0.033733</td>\n",
       "      <td>0.813394</td>\n",
       "      <td>1.000000</td>\n",
       "      <td>-0.027324</td>\n",
       "      <td>-0.023608</td>\n",
       "      <td>-0.017577</td>\n",
       "      <td>-0.014632</td>\n",
       "      <td>-0.173501</td>\n",
       "      <td>-0.094717</td>\n",
       "      <td>...</td>\n",
       "      <td>-0.184458</td>\n",
       "      <td>-0.244956</td>\n",
       "      <td>-0.061151</td>\n",
       "      <td>-0.255101</td>\n",
       "      <td>-0.169402</td>\n",
       "      <td>-0.224447</td>\n",
       "      <td>-0.172704</td>\n",
       "      <td>-0.250455</td>\n",
       "      <td>-0.090798</td>\n",
       "      <td>-0.216674</td>\n",
       "    </tr>\n",
       "    <tr>\n",
       "      <th>3</th>\n",
       "      <th>1</th>\n",
       "      <th>lh</th>\n",
       "      <td>-0.342849</td>\n",
       "      <td>-0.351509</td>\n",
       "      <td>-0.006940</td>\n",
       "      <td>-0.027324</td>\n",
       "      <td>1.000000</td>\n",
       "      <td>0.553183</td>\n",
       "      <td>0.528787</td>\n",
       "      <td>0.503403</td>\n",
       "      <td>-0.157154</td>\n",
       "      <td>-0.185008</td>\n",
       "      <td>...</td>\n",
       "      <td>-0.146451</td>\n",
       "      <td>-0.033931</td>\n",
       "      <td>-0.156972</td>\n",
       "      <td>-0.015964</td>\n",
       "      <td>-0.149944</td>\n",
       "      <td>0.026579</td>\n",
       "      <td>-0.089109</td>\n",
       "      <td>-0.012675</td>\n",
       "      <td>-0.024644</td>\n",
       "      <td>0.013747</td>\n",
       "    </tr>\n",
       "    <tr>\n",
       "      <th>...</th>\n",
       "      <th>...</th>\n",
       "      <th>...</th>\n",
       "      <td>...</td>\n",
       "      <td>...</td>\n",
       "      <td>...</td>\n",
       "      <td>...</td>\n",
       "      <td>...</td>\n",
       "      <td>...</td>\n",
       "      <td>...</td>\n",
       "      <td>...</td>\n",
       "      <td>...</td>\n",
       "      <td>...</td>\n",
       "      <td>...</td>\n",
       "      <td>...</td>\n",
       "      <td>...</td>\n",
       "      <td>...</td>\n",
       "      <td>...</td>\n",
       "      <td>...</td>\n",
       "      <td>...</td>\n",
       "      <td>...</td>\n",
       "      <td>...</td>\n",
       "      <td>...</td>\n",
       "      <td>...</td>\n",
       "    </tr>\n",
       "    <tr>\n",
       "      <th rowspan=\"5\" valign=\"top\">17</th>\n",
       "      <th rowspan=\"2\" valign=\"top\">2</th>\n",
       "      <th>lh</th>\n",
       "      <td>-0.206379</td>\n",
       "      <td>-0.273370</td>\n",
       "      <td>-0.151724</td>\n",
       "      <td>-0.224447</td>\n",
       "      <td>0.026579</td>\n",
       "      <td>-0.056687</td>\n",
       "      <td>0.020064</td>\n",
       "      <td>0.084837</td>\n",
       "      <td>-0.359879</td>\n",
       "      <td>-0.394522</td>\n",
       "      <td>...</td>\n",
       "      <td>0.173117</td>\n",
       "      <td>0.478606</td>\n",
       "      <td>0.258958</td>\n",
       "      <td>0.499351</td>\n",
       "      <td>0.319184</td>\n",
       "      <td>1.000000</td>\n",
       "      <td>0.597620</td>\n",
       "      <td>0.601382</td>\n",
       "      <td>0.319382</td>\n",
       "      <td>0.517481</td>\n",
       "    </tr>\n",
       "    <tr>\n",
       "      <th>rh</th>\n",
       "      <td>-0.212601</td>\n",
       "      <td>-0.266456</td>\n",
       "      <td>-0.124508</td>\n",
       "      <td>-0.172704</td>\n",
       "      <td>-0.089109</td>\n",
       "      <td>-0.144020</td>\n",
       "      <td>0.007278</td>\n",
       "      <td>0.029909</td>\n",
       "      <td>-0.299152</td>\n",
       "      <td>-0.295150</td>\n",
       "      <td>...</td>\n",
       "      <td>0.299440</td>\n",
       "      <td>0.204444</td>\n",
       "      <td>0.453497</td>\n",
       "      <td>0.272868</td>\n",
       "      <td>0.440901</td>\n",
       "      <td>0.597620</td>\n",
       "      <td>1.000000</td>\n",
       "      <td>0.345253</td>\n",
       "      <td>0.456019</td>\n",
       "      <td>0.256544</td>\n",
       "    </tr>\n",
       "    <tr>\n",
       "      <th rowspan=\"2\" valign=\"top\">3</th>\n",
       "      <th>lh</th>\n",
       "      <td>-0.142770</td>\n",
       "      <td>-0.174222</td>\n",
       "      <td>-0.179912</td>\n",
       "      <td>-0.250455</td>\n",
       "      <td>-0.012675</td>\n",
       "      <td>-0.047434</td>\n",
       "      <td>0.070114</td>\n",
       "      <td>0.100063</td>\n",
       "      <td>-0.245179</td>\n",
       "      <td>-0.303354</td>\n",
       "      <td>...</td>\n",
       "      <td>-0.055529</td>\n",
       "      <td>0.259191</td>\n",
       "      <td>0.046663</td>\n",
       "      <td>0.454838</td>\n",
       "      <td>0.188905</td>\n",
       "      <td>0.601382</td>\n",
       "      <td>0.345253</td>\n",
       "      <td>1.000000</td>\n",
       "      <td>0.379705</td>\n",
       "      <td>0.264381</td>\n",
       "    </tr>\n",
       "    <tr>\n",
       "      <th>rh</th>\n",
       "      <td>-0.204326</td>\n",
       "      <td>-0.223572</td>\n",
       "      <td>-0.044706</td>\n",
       "      <td>-0.090798</td>\n",
       "      <td>-0.024644</td>\n",
       "      <td>-0.103875</td>\n",
       "      <td>0.101791</td>\n",
       "      <td>0.128318</td>\n",
       "      <td>-0.302654</td>\n",
       "      <td>-0.277378</td>\n",
       "      <td>...</td>\n",
       "      <td>0.079460</td>\n",
       "      <td>0.005291</td>\n",
       "      <td>0.296318</td>\n",
       "      <td>0.087061</td>\n",
       "      <td>0.224760</td>\n",
       "      <td>0.319382</td>\n",
       "      <td>0.456019</td>\n",
       "      <td>0.379705</td>\n",
       "      <td>1.000000</td>\n",
       "      <td>0.090302</td>\n",
       "    </tr>\n",
       "    <tr>\n",
       "      <th>4</th>\n",
       "      <th>lh</th>\n",
       "      <td>-0.219283</td>\n",
       "      <td>-0.273626</td>\n",
       "      <td>-0.209557</td>\n",
       "      <td>-0.216674</td>\n",
       "      <td>0.013747</td>\n",
       "      <td>-0.058838</td>\n",
       "      <td>-0.069100</td>\n",
       "      <td>-0.031653</td>\n",
       "      <td>-0.282767</td>\n",
       "      <td>-0.279381</td>\n",
       "      <td>...</td>\n",
       "      <td>0.418857</td>\n",
       "      <td>0.603491</td>\n",
       "      <td>0.172167</td>\n",
       "      <td>0.589364</td>\n",
       "      <td>0.451264</td>\n",
       "      <td>0.517481</td>\n",
       "      <td>0.256544</td>\n",
       "      <td>0.264381</td>\n",
       "      <td>0.090302</td>\n",
       "      <td>1.000000</td>\n",
       "    </tr>\n",
       "  </tbody>\n",
       "</table>\n",
       "<p>62 rows × 62 columns</p>\n",
       "</div>"
      ],
      "text/plain": [
       "network                   1                   2                   3            \\\n",
       "node                      1                   1                   1             \n",
       "hemi                     lh        rh        lh        rh        lh        rh   \n",
       "network node hemi                                                               \n",
       "1       1    lh    1.000000  0.881516 -0.042699 -0.074437 -0.342849 -0.169498   \n",
       "             rh    0.881516  1.000000  0.013073  0.033733 -0.351509 -0.162006   \n",
       "2       1    lh   -0.042699  0.013073  1.000000  0.813394 -0.006940 -0.039375   \n",
       "             rh   -0.074437  0.033733  0.813394  1.000000 -0.027324 -0.023608   \n",
       "3       1    lh   -0.342849 -0.351509 -0.006940 -0.027324  1.000000  0.553183   \n",
       "...                     ...       ...       ...       ...       ...       ...   \n",
       "17      2    lh   -0.206379 -0.273370 -0.151724 -0.224447  0.026579 -0.056687   \n",
       "             rh   -0.212601 -0.266456 -0.124508 -0.172704 -0.089109 -0.144020   \n",
       "        3    lh   -0.142770 -0.174222 -0.179912 -0.250455 -0.012675 -0.047434   \n",
       "             rh   -0.204326 -0.223572 -0.044706 -0.090798 -0.024644 -0.103875   \n",
       "        4    lh   -0.219283 -0.273626 -0.209557 -0.216674  0.013747 -0.058838   \n",
       "\n",
       "network                   4                   5            ...        16  \\\n",
       "node                      1                   1            ...         3   \n",
       "hemi                     lh        rh        lh        rh  ...        rh   \n",
       "network node hemi                                          ...             \n",
       "1       1    lh   -0.373050 -0.361726  0.431619  0.418708  ... -0.106642   \n",
       "             rh   -0.333244 -0.337476  0.431953  0.519916  ... -0.173530   \n",
       "2       1    lh   -0.019773  0.007099 -0.147374 -0.104164  ... -0.215429   \n",
       "             rh   -0.017577 -0.014632 -0.173501 -0.094717  ... -0.184458   \n",
       "3       1    lh    0.528787  0.503403 -0.157154 -0.185008  ... -0.146451   \n",
       "...                     ...       ...       ...       ...  ...       ...   \n",
       "17      2    lh    0.020064  0.084837 -0.359879 -0.394522  ...  0.173117   \n",
       "             rh    0.007278  0.029909 -0.299152 -0.295150  ...  0.299440   \n",
       "        3    lh    0.070114  0.100063 -0.245179 -0.303354  ... -0.055529   \n",
       "             rh    0.101791  0.128318 -0.302654 -0.277378  ...  0.079460   \n",
       "        4    lh   -0.069100 -0.031653 -0.282767 -0.279381  ...  0.418857   \n",
       "\n",
       "network                                      17                                \\\n",
       "node                      4                   1                   2             \n",
       "hemi                     lh        rh        lh        rh        lh        rh   \n",
       "network node hemi                                                               \n",
       "1       1    lh   -0.162254 -0.232501 -0.099781 -0.161649 -0.206379 -0.212601   \n",
       "             rh   -0.224436 -0.277954 -0.212964 -0.262915 -0.273370 -0.266456   \n",
       "2       1    lh   -0.239876 -0.093679 -0.240455 -0.190721 -0.151724 -0.124508   \n",
       "             rh   -0.244956 -0.061151 -0.255101 -0.169402 -0.224447 -0.172704   \n",
       "3       1    lh   -0.033931 -0.156972 -0.015964 -0.149944  0.026579 -0.089109   \n",
       "...                     ...       ...       ...       ...       ...       ...   \n",
       "17      2    lh    0.478606  0.258958  0.499351  0.319184  1.000000  0.597620   \n",
       "             rh    0.204444  0.453497  0.272868  0.440901  0.597620  1.000000   \n",
       "        3    lh    0.259191  0.046663  0.454838  0.188905  0.601382  0.345253   \n",
       "             rh    0.005291  0.296318  0.087061  0.224760  0.319382  0.456019   \n",
       "        4    lh    0.603491  0.172167  0.589364  0.451264  0.517481  0.256544   \n",
       "\n",
       "network                                          \n",
       "node                      3                   4  \n",
       "hemi                     lh        rh        lh  \n",
       "network node hemi                                \n",
       "1       1    lh   -0.142770 -0.204326 -0.219283  \n",
       "             rh   -0.174222 -0.223572 -0.273626  \n",
       "2       1    lh   -0.179912 -0.044706 -0.209557  \n",
       "             rh   -0.250455 -0.090798 -0.216674  \n",
       "3       1    lh   -0.012675 -0.024644  0.013747  \n",
       "...                     ...       ...       ...  \n",
       "17      2    lh    0.601382  0.319382  0.517481  \n",
       "             rh    0.345253  0.456019  0.256544  \n",
       "        3    lh    1.000000  0.379705  0.264381  \n",
       "             rh    0.379705  1.000000  0.090302  \n",
       "        4    lh    0.264381  0.090302  1.000000  \n",
       "\n",
       "[62 rows x 62 columns]"
      ]
     },
     "execution_count": 12,
     "metadata": {},
     "output_type": "execute_result"
    }
   ],
   "source": [
    "corrmat = df.corr()\n",
    "corrmat"
   ]
  },
  {
   "cell_type": "markdown",
   "metadata": {},
   "source": [
    "The correlation matrix is a square matrix and the values range from -1 to 1.\n",
    "\n",
    "A correlation of 1 means that two series are fully correlated, that is, series $\\mathbf{x}$ is the same as $\\mathbf{y}$, except for potential scaling and translation (i.e., multiplication and/or addition of a constant).\n",
    "\n",
    "A correlation of -1 means that two series are exactly the \"opposite\" of each other. They are \"anticorrelated\".\n",
    "\n",
    "Both correlation of -1 and 1 mean that the two series are fully predictable.\n",
    "\n",
    "A correlation of 0 means that the two values are uncorrelated., that is, series $\\mathbf{x}$ is not linearly  predictable from series $\\mathbf{y}$.\n",
    "\n",
    "#### Correlation matrix\n",
    "Now, let's plot the correlation matrix. It's a square matrix with possible values between -1 and 1."
   ]
  },
  {
   "cell_type": "code",
   "execution_count": 13,
   "metadata": {},
   "outputs": [
    {
     "data": {
      "text/plain": [
       "<matplotlib.image.AxesImage at 0x22f7b6bca30>"
      ]
     },
     "execution_count": 13,
     "metadata": {},
     "output_type": "execute_result"
    },
    {
     "data": {
      "image/png": "[encoded data removed]",
      "text/plain": [
       "<Figure size 288x432 with 1 Axes>"
      ]
     },
     "metadata": {
      "needs_background": "light"
     },
     "output_type": "display_data"
    }
   ],
   "source": [
    "f = plt.figure(figsize=(4,6))\n",
    "ax = f.gca()\n",
    "ax.imshow(corrmat.values)"
   ]
  },
  {
   "cell_type": "markdown",
   "metadata": {},
   "source": [
    "### Task\n",
    "1. Add a colorbar to the figure.\n",
    "2. make the figure 7 inch large and square.\n",
    "2. go to the [matplotlib colormap tutorial](https://matplotlib.org/3.1.0/tutorials/colors/colormaps.html), have a look at the available colormaps and choose a diverging colormap of your liking.\n",
    "3. use the documentation of the `imshow` command to find out how to change the colormap. Hint: use `plt.imshow?` to display the documentation for `imshow`.\n",
    "4. Scale the colormap such that the minimum value it reports is -1 and the maximum is 1. The mean will be zero. Hint: Look at the `vmin` and `vmax` parameters in the documentation.\n",
    "5. Save the figure in PNG format with 150 dpi. \n",
    "6. Verify that the saved figure has the dimensions 7x7 inch. Hint: Open Word, create a new document, insert the figure, right click -> \"Size and Position\", check \"Original Size\". You may have to convert centimeters to inches."
   ]
  },
  {
   "cell_type": "code",
   "execution_count": 14,
   "metadata": {},
   "outputs": [
    {
     "data": {
      "text/plain": [
       "<matplotlib.colorbar.Colorbar at 0x22f7b76c610>"
      ]
     },
     "execution_count": 14,
     "metadata": {},
     "output_type": "execute_result"
    },
    {
     "data": {
      "image/png": "[encoded data removed]",
      "text/plain": [
       "<Figure size 504x504 with 2 Axes>"
      ]
     },
     "metadata": {
      "needs_background": "light"
     },
     "output_type": "display_data"
    }
   ],
   "source": [
    "# adding colorbar\n",
    "f = plt.figure(figsize=(7,7))\n",
    "ax = f.gca()\n",
    "b=ax.imshow(corrmat.values)\n",
    "plt.colorbar(b)\n"
   ]
  },
  {
   "cell_type": "code",
   "execution_count": 15,
   "metadata": {},
   "outputs": [
    {
     "data": {
      "text/plain": [
       "<matplotlib.colorbar.Colorbar at 0x22f7c7fc280>"
      ]
     },
     "execution_count": 15,
     "metadata": {},
     "output_type": "execute_result"
    },
    {
     "data": {
      "image/png": "[encoded data removed]",
      "text/plain": [
       "<Figure size 504x504 with 2 Axes>"
      ]
     },
     "metadata": {
      "needs_background": "light"
     },
     "output_type": "display_data"
    }
   ],
   "source": [
    "f = plt.figure(figsize=(7,7))\n",
    "ax = f.gca()\n",
    "b=ax.imshow(corrmat.values, cmap='bwr')\n",
    "plt.colorbar(b)"
   ]
  },
  {
   "cell_type": "code",
   "execution_count": 16,
   "metadata": {},
   "outputs": [],
   "source": [
    "plt.imshow?"
   ]
  },
  {
   "cell_type": "code",
   "execution_count": 17,
   "metadata": {},
   "outputs": [
    {
     "data": {
      "text/plain": [
       "<matplotlib.colorbar.Colorbar at 0x22f7c8f86d0>"
      ]
     },
     "execution_count": 17,
     "metadata": {},
     "output_type": "execute_result"
    },
    {
     "data": {
      "image/png": "[encoded data removed]",
      "text/plain": [
       "<Figure size 504x504 with 2 Axes>"
      ]
     },
     "metadata": {
      "needs_background": "light"
     },
     "output_type": "display_data"
    }
   ],
   "source": [
    "f = plt.figure(figsize=(7,7))\n",
    "ax = f.gca()\n",
    "b=ax.imshow(corrmat.values, cmap='bwr', vmin=-1., vmax=1.)\n",
    "plt.colorbar(b)"
   ]
  },
  {
   "cell_type": "code",
   "execution_count": 18,
   "metadata": {},
   "outputs": [],
   "source": [
    "f.savefig('kr.png',dpi=150)"
   ]
  },
  {
   "cell_type": "markdown",
   "metadata": {},
   "source": [
    "## Coronavirus campaign continued — Explorative analysis\n",
    "\n",
    "This is an additional task for advanced students. It is optional, but I warmly encourage you to give it a try. \n",
    "\n",
    "\n",
    "1. Download the newest version of th coronavirus dataset from https://www.kaggle.com/sudalairajkumar/novel-corona-virus-2019-dataset .\n",
    "\n",
    "2. Plot the ...\n",
    " * number of cases in Hubei over time\n",
    " * number of deaths in Hubei over time\n",
    " * infection rate over time (new cases per existing cases)\n",
    " * mortality rate in Hubei over time (deaths per cases)\n",
    " * recovery rate in Hubei over time (recoveries per cases)\n",
    " \n",
    "3. Plot a bar chart that shows the number of cases in Mainland China vs. all other countries listed. Sort bars in decreasing order. Hint: Look at `matplotlib.pyplot.hist` for how to make a bar histogram."
   ]
  },
  {
   "cell_type": "code",
   "execution_count": 19,
   "metadata": {},
   "outputs": [
    {
     "data": {
      "text/html": [
       "<div>\n",
       "<style scoped>\n",
       "    .dataframe tbody tr th:only-of-type {\n",
       "        vertical-align: middle;\n",
       "    }\n",
       "\n",
       "    .dataframe tbody tr th {\n",
       "        vertical-align: top;\n",
       "    }\n",
       "\n",
       "    .dataframe thead th {\n",
       "        text-align: right;\n",
       "    }\n",
       "</style>\n",
       "<table border=\"1\" class=\"dataframe\">\n",
       "  <thead>\n",
       "    <tr style=\"text-align: right;\">\n",
       "      <th></th>\n",
       "      <th>SNo</th>\n",
       "      <th>ObservationDate</th>\n",
       "      <th>Province/State</th>\n",
       "      <th>Country/Region</th>\n",
       "      <th>Last Update</th>\n",
       "      <th>Confirmed</th>\n",
       "      <th>Deaths</th>\n",
       "      <th>Recovered</th>\n",
       "    </tr>\n",
       "  </thead>\n",
       "  <tbody>\n",
       "    <tr>\n",
       "      <th>0</th>\n",
       "      <td>1</td>\n",
       "      <td>01/22/2020</td>\n",
       "      <td>Anhui</td>\n",
       "      <td>Mainland China</td>\n",
       "      <td>1/22/2020 17:00</td>\n",
       "      <td>1.0</td>\n",
       "      <td>0.0</td>\n",
       "      <td>0.0</td>\n",
       "    </tr>\n",
       "    <tr>\n",
       "      <th>1</th>\n",
       "      <td>2</td>\n",
       "      <td>01/22/2020</td>\n",
       "      <td>Beijing</td>\n",
       "      <td>Mainland China</td>\n",
       "      <td>1/22/2020 17:00</td>\n",
       "      <td>14.0</td>\n",
       "      <td>0.0</td>\n",
       "      <td>0.0</td>\n",
       "    </tr>\n",
       "    <tr>\n",
       "      <th>2</th>\n",
       "      <td>3</td>\n",
       "      <td>01/22/2020</td>\n",
       "      <td>Chongqing</td>\n",
       "      <td>Mainland China</td>\n",
       "      <td>1/22/2020 17:00</td>\n",
       "      <td>6.0</td>\n",
       "      <td>0.0</td>\n",
       "      <td>0.0</td>\n",
       "    </tr>\n",
       "    <tr>\n",
       "      <th>3</th>\n",
       "      <td>4</td>\n",
       "      <td>01/22/2020</td>\n",
       "      <td>Fujian</td>\n",
       "      <td>Mainland China</td>\n",
       "      <td>1/22/2020 17:00</td>\n",
       "      <td>1.0</td>\n",
       "      <td>0.0</td>\n",
       "      <td>0.0</td>\n",
       "    </tr>\n",
       "    <tr>\n",
       "      <th>4</th>\n",
       "      <td>5</td>\n",
       "      <td>01/22/2020</td>\n",
       "      <td>Gansu</td>\n",
       "      <td>Mainland China</td>\n",
       "      <td>1/22/2020 17:00</td>\n",
       "      <td>0.0</td>\n",
       "      <td>0.0</td>\n",
       "      <td>0.0</td>\n",
       "    </tr>\n",
       "    <tr>\n",
       "      <th>...</th>\n",
       "      <td>...</td>\n",
       "      <td>...</td>\n",
       "      <td>...</td>\n",
       "      <td>...</td>\n",
       "      <td>...</td>\n",
       "      <td>...</td>\n",
       "      <td>...</td>\n",
       "      <td>...</td>\n",
       "    </tr>\n",
       "    <tr>\n",
       "      <th>306424</th>\n",
       "      <td>306425</td>\n",
       "      <td>05/29/2021</td>\n",
       "      <td>Zaporizhia Oblast</td>\n",
       "      <td>Ukraine</td>\n",
       "      <td>2021-05-30 04:20:55</td>\n",
       "      <td>102641.0</td>\n",
       "      <td>2335.0</td>\n",
       "      <td>95289.0</td>\n",
       "    </tr>\n",
       "    <tr>\n",
       "      <th>306425</th>\n",
       "      <td>306426</td>\n",
       "      <td>05/29/2021</td>\n",
       "      <td>Zeeland</td>\n",
       "      <td>Netherlands</td>\n",
       "      <td>2021-05-30 04:20:55</td>\n",
       "      <td>29147.0</td>\n",
       "      <td>245.0</td>\n",
       "      <td>0.0</td>\n",
       "    </tr>\n",
       "    <tr>\n",
       "      <th>306426</th>\n",
       "      <td>306427</td>\n",
       "      <td>05/29/2021</td>\n",
       "      <td>Zhejiang</td>\n",
       "      <td>Mainland China</td>\n",
       "      <td>2021-05-30 04:20:55</td>\n",
       "      <td>1364.0</td>\n",
       "      <td>1.0</td>\n",
       "      <td>1324.0</td>\n",
       "    </tr>\n",
       "    <tr>\n",
       "      <th>306427</th>\n",
       "      <td>306428</td>\n",
       "      <td>05/29/2021</td>\n",
       "      <td>Zhytomyr Oblast</td>\n",
       "      <td>Ukraine</td>\n",
       "      <td>2021-05-30 04:20:55</td>\n",
       "      <td>87550.0</td>\n",
       "      <td>1738.0</td>\n",
       "      <td>83790.0</td>\n",
       "    </tr>\n",
       "    <tr>\n",
       "      <th>306428</th>\n",
       "      <td>306429</td>\n",
       "      <td>05/29/2021</td>\n",
       "      <td>Zuid-Holland</td>\n",
       "      <td>Netherlands</td>\n",
       "      <td>2021-05-30 04:20:55</td>\n",
       "      <td>391559.0</td>\n",
       "      <td>4252.0</td>\n",
       "      <td>0.0</td>\n",
       "    </tr>\n",
       "  </tbody>\n",
       "</table>\n",
       "<p>306429 rows × 8 columns</p>\n",
       "</div>"
      ],
      "text/plain": [
       "           SNo ObservationDate     Province/State  Country/Region  \\\n",
       "0            1      01/22/2020              Anhui  Mainland China   \n",
       "1            2      01/22/2020            Beijing  Mainland China   \n",
       "2            3      01/22/2020          Chongqing  Mainland China   \n",
       "3            4      01/22/2020             Fujian  Mainland China   \n",
       "4            5      01/22/2020              Gansu  Mainland China   \n",
       "...        ...             ...                ...             ...   \n",
       "306424  306425      05/29/2021  Zaporizhia Oblast         Ukraine   \n",
       "306425  306426      05/29/2021            Zeeland     Netherlands   \n",
       "306426  306427      05/29/2021           Zhejiang  Mainland China   \n",
       "306427  306428      05/29/2021    Zhytomyr Oblast         Ukraine   \n",
       "306428  306429      05/29/2021       Zuid-Holland     Netherlands   \n",
       "\n",
       "                Last Update  Confirmed  Deaths  Recovered  \n",
       "0           1/22/2020 17:00        1.0     0.0        0.0  \n",
       "1           1/22/2020 17:00       14.0     0.0        0.0  \n",
       "2           1/22/2020 17:00        6.0     0.0        0.0  \n",
       "3           1/22/2020 17:00        1.0     0.0        0.0  \n",
       "4           1/22/2020 17:00        0.0     0.0        0.0  \n",
       "...                     ...        ...     ...        ...  \n",
       "306424  2021-05-30 04:20:55   102641.0  2335.0    95289.0  \n",
       "306425  2021-05-30 04:20:55    29147.0   245.0        0.0  \n",
       "306426  2021-05-30 04:20:55     1364.0     1.0     1324.0  \n",
       "306427  2021-05-30 04:20:55    87550.0  1738.0    83790.0  \n",
       "306428  2021-05-30 04:20:55   391559.0  4252.0        0.0  \n",
       "\n",
       "[306429 rows x 8 columns]"
      ]
     },
     "execution_count": 19,
     "metadata": {},
     "output_type": "execute_result"
    }
   ],
   "source": [
    "# add your code here\n",
    "df = pd.read_csv('covid_19_data23.csv')\n",
    "df"
   ]
  },
  {
   "cell_type": "code",
   "execution_count": 20,
   "metadata": {},
   "outputs": [
    {
     "data": {
      "text/plain": [
       "<AxesSubplot:>"
      ]
     },
     "execution_count": 20,
     "metadata": {},
     "output_type": "execute_result"
    },
    {
     "data": {
      "image/png": "[encoded data removed]",
      "text/plain": [
       "<Figure size 432x288 with 1 Axes>"
      ]
     },
     "metadata": {
      "needs_background": "light"
     },
     "output_type": "display_data"
    }
   ],
   "source": [
    "df['Confirmed'].plot()\n"
   ]
  },
  {
   "cell_type": "code",
   "execution_count": 21,
   "metadata": {},
   "outputs": [
    {
     "data": {
      "text/plain": [
       "<AxesSubplot:>"
      ]
     },
     "execution_count": 21,
     "metadata": {},
     "output_type": "execute_result"
    },
    {
     "data": {
      "image/png": "[encoded data removed]",
      "text/plain": [
       "<Figure size 432x288 with 1 Axes>"
      ]
     },
     "metadata": {
      "needs_background": "light"
     },
     "output_type": "display_data"
    }
   ],
   "source": [
    "df['Deaths'].plot()"
   ]
  },
  {
   "cell_type": "code",
   "execution_count": 22,
   "metadata": {},
   "outputs": [],
   "source": [
    "df['newcases']=df['Confirmed'].subtract(df['Recovered'])"
   ]
  },
  {
   "cell_type": "code",
   "execution_count": 23,
   "metadata": {},
   "outputs": [
    {
     "data": {
      "text/plain": [
       "<AxesSubplot:>"
      ]
     },
     "execution_count": 23,
     "metadata": {},
     "output_type": "execute_result"
    },
    {
     "data": {
      "image/png": "[encoded data removed]",
      "text/plain": [
       "<Figure size 432x288 with 1 Axes>"
      ]
     },
     "metadata": {
      "needs_background": "light"
     },
     "output_type": "display_data"
    }
   ],
   "source": [
    "df['newcases'].plot()"
   ]
  },
  {
   "cell_type": "code",
   "execution_count": 24,
   "metadata": {},
   "outputs": [
    {
     "data": {
      "text/plain": [
       "<AxesSubplot:>"
      ]
     },
     "execution_count": 24,
     "metadata": {},
     "output_type": "execute_result"
    },
    {
     "data": {
      "image/png": "[encoded data removed]",
      "text/plain": [
       "<Figure size 432x288 with 1 Axes>"
      ]
     },
     "metadata": {
      "needs_background": "light"
     },
     "output_type": "display_data"
    }
   ],
   "source": [
    "df['mortality']=df['Deaths']/df['Confirmed']\n",
    "df['mortality'].plot()"
   ]
  },
  {
   "cell_type": "code",
   "execution_count": 25,
   "metadata": {},
   "outputs": [
    {
     "data": {
      "text/plain": [
       "<AxesSubplot:>"
      ]
     },
     "execution_count": 25,
     "metadata": {},
     "output_type": "execute_result"
    },
    {
     "data": {
      "image/png": "[encoded data removed]",
      "text/plain": [
       "<Figure size 432x288 with 1 Axes>"
      ]
     },
     "metadata": {
      "needs_background": "light"
     },
     "output_type": "display_data"
    }
   ],
   "source": [
    "df['Recovery']=df['Recovered']/df['Confirmed']\n",
    "df['Recovery'].plot()"
   ]
  },
  {
   "cell_type": "code",
   "execution_count": 26,
   "metadata": {},
   "outputs": [],
   "source": [
    "totalcases = df.groupby('Country/Region')['Confirmed'].sum()\n",
    "totalcases = totalcases.sort_values(ascending=False)"
   ]
  },
  {
   "cell_type": "code",
   "execution_count": 27,
   "metadata": {},
   "outputs": [
    {
     "data": {
      "text/plain": [
       "<BarContainer object of 229 artists>"
      ]
     },
     "execution_count": 27,
     "metadata": {},
     "output_type": "execute_result"
    },
    {
     "data": {
      "image/png": "[encoded data removed]",
      "text/plain": [
       "<Figure size 432x288 with 1 Axes>"
      ]
     },
     "metadata": {
      "needs_background": "light"
     },
     "output_type": "display_data"
    }
   ],
   "source": [
    "plt.bar(totalcases.index,totalcases.values)"
   ]
  },
  {
   "cell_type": "markdown",
   "metadata": {},
   "source": [
    "## Advanced data campaign 1 - data cleaning\n",
    "\n",
    "Two task to practice your data wrangling skills.\n",
    "\n",
    "1. Standardise the column 'Country' (i.e. 'China' vs. 'Mainland China')\n",
    "2. Standardise the format of the date strings in 'Date' and 'Last Update'. Consult the documentation for `pandas.to_datetime`."
   ]
  },
  {
   "cell_type": "code",
   "execution_count": 28,
   "metadata": {},
   "outputs": [
    {
     "data": {
      "text/html": [
       "<div>\n",
       "<style scoped>\n",
       "    .dataframe tbody tr th:only-of-type {\n",
       "        vertical-align: middle;\n",
       "    }\n",
       "\n",
       "    .dataframe tbody tr th {\n",
       "        vertical-align: top;\n",
       "    }\n",
       "\n",
       "    .dataframe thead th {\n",
       "        text-align: right;\n",
       "    }\n",
       "</style>\n",
       "<table border=\"1\" class=\"dataframe\">\n",
       "  <thead>\n",
       "    <tr style=\"text-align: right;\">\n",
       "      <th></th>\n",
       "      <th>SNo</th>\n",
       "      <th>ObservationDate</th>\n",
       "      <th>Province/State</th>\n",
       "      <th>Country/Region</th>\n",
       "      <th>Last Update</th>\n",
       "      <th>Confirmed</th>\n",
       "      <th>Deaths</th>\n",
       "      <th>Recovered</th>\n",
       "    </tr>\n",
       "  </thead>\n",
       "  <tbody>\n",
       "    <tr>\n",
       "      <th>0</th>\n",
       "      <td>1</td>\n",
       "      <td>01/22/2020</td>\n",
       "      <td>Anhui</td>\n",
       "      <td>Mainland China</td>\n",
       "      <td>1/22/2020 17:00</td>\n",
       "      <td>1.0</td>\n",
       "      <td>0.0</td>\n",
       "      <td>0.0</td>\n",
       "    </tr>\n",
       "    <tr>\n",
       "      <th>1</th>\n",
       "      <td>2</td>\n",
       "      <td>01/22/2020</td>\n",
       "      <td>Beijing</td>\n",
       "      <td>Mainland China</td>\n",
       "      <td>1/22/2020 17:00</td>\n",
       "      <td>14.0</td>\n",
       "      <td>0.0</td>\n",
       "      <td>0.0</td>\n",
       "    </tr>\n",
       "    <tr>\n",
       "      <th>2</th>\n",
       "      <td>3</td>\n",
       "      <td>01/22/2020</td>\n",
       "      <td>Chongqing</td>\n",
       "      <td>Mainland China</td>\n",
       "      <td>1/22/2020 17:00</td>\n",
       "      <td>6.0</td>\n",
       "      <td>0.0</td>\n",
       "      <td>0.0</td>\n",
       "    </tr>\n",
       "    <tr>\n",
       "      <th>3</th>\n",
       "      <td>4</td>\n",
       "      <td>01/22/2020</td>\n",
       "      <td>Fujian</td>\n",
       "      <td>Mainland China</td>\n",
       "      <td>1/22/2020 17:00</td>\n",
       "      <td>1.0</td>\n",
       "      <td>0.0</td>\n",
       "      <td>0.0</td>\n",
       "    </tr>\n",
       "    <tr>\n",
       "      <th>4</th>\n",
       "      <td>5</td>\n",
       "      <td>01/22/2020</td>\n",
       "      <td>Gansu</td>\n",
       "      <td>Mainland China</td>\n",
       "      <td>1/22/2020 17:00</td>\n",
       "      <td>0.0</td>\n",
       "      <td>0.0</td>\n",
       "      <td>0.0</td>\n",
       "    </tr>\n",
       "    <tr>\n",
       "      <th>...</th>\n",
       "      <td>...</td>\n",
       "      <td>...</td>\n",
       "      <td>...</td>\n",
       "      <td>...</td>\n",
       "      <td>...</td>\n",
       "      <td>...</td>\n",
       "      <td>...</td>\n",
       "      <td>...</td>\n",
       "    </tr>\n",
       "    <tr>\n",
       "      <th>306424</th>\n",
       "      <td>306425</td>\n",
       "      <td>05/29/2021</td>\n",
       "      <td>Zaporizhia Oblast</td>\n",
       "      <td>Ukraine</td>\n",
       "      <td>2021-05-30 04:20:55</td>\n",
       "      <td>102641.0</td>\n",
       "      <td>2335.0</td>\n",
       "      <td>95289.0</td>\n",
       "    </tr>\n",
       "    <tr>\n",
       "      <th>306425</th>\n",
       "      <td>306426</td>\n",
       "      <td>05/29/2021</td>\n",
       "      <td>Zeeland</td>\n",
       "      <td>Netherlands</td>\n",
       "      <td>2021-05-30 04:20:55</td>\n",
       "      <td>29147.0</td>\n",
       "      <td>245.0</td>\n",
       "      <td>0.0</td>\n",
       "    </tr>\n",
       "    <tr>\n",
       "      <th>306426</th>\n",
       "      <td>306427</td>\n",
       "      <td>05/29/2021</td>\n",
       "      <td>Zhejiang</td>\n",
       "      <td>Mainland China</td>\n",
       "      <td>2021-05-30 04:20:55</td>\n",
       "      <td>1364.0</td>\n",
       "      <td>1.0</td>\n",
       "      <td>1324.0</td>\n",
       "    </tr>\n",
       "    <tr>\n",
       "      <th>306427</th>\n",
       "      <td>306428</td>\n",
       "      <td>05/29/2021</td>\n",
       "      <td>Zhytomyr Oblast</td>\n",
       "      <td>Ukraine</td>\n",
       "      <td>2021-05-30 04:20:55</td>\n",
       "      <td>87550.0</td>\n",
       "      <td>1738.0</td>\n",
       "      <td>83790.0</td>\n",
       "    </tr>\n",
       "    <tr>\n",
       "      <th>306428</th>\n",
       "      <td>306429</td>\n",
       "      <td>05/29/2021</td>\n",
       "      <td>Zuid-Holland</td>\n",
       "      <td>Netherlands</td>\n",
       "      <td>2021-05-30 04:20:55</td>\n",
       "      <td>391559.0</td>\n",
       "      <td>4252.0</td>\n",
       "      <td>0.0</td>\n",
       "    </tr>\n",
       "  </tbody>\n",
       "</table>\n",
       "<p>306429 rows × 8 columns</p>\n",
       "</div>"
      ],
      "text/plain": [
       "           SNo ObservationDate     Province/State  Country/Region  \\\n",
       "0            1      01/22/2020              Anhui  Mainland China   \n",
       "1            2      01/22/2020            Beijing  Mainland China   \n",
       "2            3      01/22/2020          Chongqing  Mainland China   \n",
       "3            4      01/22/2020             Fujian  Mainland China   \n",
       "4            5      01/22/2020              Gansu  Mainland China   \n",
       "...        ...             ...                ...             ...   \n",
       "306424  306425      05/29/2021  Zaporizhia Oblast         Ukraine   \n",
       "306425  306426      05/29/2021            Zeeland     Netherlands   \n",
       "306426  306427      05/29/2021           Zhejiang  Mainland China   \n",
       "306427  306428      05/29/2021    Zhytomyr Oblast         Ukraine   \n",
       "306428  306429      05/29/2021       Zuid-Holland     Netherlands   \n",
       "\n",
       "                Last Update  Confirmed  Deaths  Recovered  \n",
       "0           1/22/2020 17:00        1.0     0.0        0.0  \n",
       "1           1/22/2020 17:00       14.0     0.0        0.0  \n",
       "2           1/22/2020 17:00        6.0     0.0        0.0  \n",
       "3           1/22/2020 17:00        1.0     0.0        0.0  \n",
       "4           1/22/2020 17:00        0.0     0.0        0.0  \n",
       "...                     ...        ...     ...        ...  \n",
       "306424  2021-05-30 04:20:55   102641.0  2335.0    95289.0  \n",
       "306425  2021-05-30 04:20:55    29147.0   245.0        0.0  \n",
       "306426  2021-05-30 04:20:55     1364.0     1.0     1324.0  \n",
       "306427  2021-05-30 04:20:55    87550.0  1738.0    83790.0  \n",
       "306428  2021-05-30 04:20:55   391559.0  4252.0        0.0  \n",
       "\n",
       "[306429 rows x 8 columns]"
      ]
     },
     "execution_count": 28,
     "metadata": {},
     "output_type": "execute_result"
    }
   ],
   "source": [
    "# add your code here\n",
    "df = pd.read_csv('covid_19_data23.csv')\n",
    "df"
   ]
  },
  {
   "cell_type": "code",
   "execution_count": 29,
   "metadata": {},
   "outputs": [
    {
     "data": {
      "text/html": [
       "<div>\n",
       "<style scoped>\n",
       "    .dataframe tbody tr th:only-of-type {\n",
       "        vertical-align: middle;\n",
       "    }\n",
       "\n",
       "    .dataframe tbody tr th {\n",
       "        vertical-align: top;\n",
       "    }\n",
       "\n",
       "    .dataframe thead th {\n",
       "        text-align: right;\n",
       "    }\n",
       "</style>\n",
       "<table border=\"1\" class=\"dataframe\">\n",
       "  <thead>\n",
       "    <tr style=\"text-align: right;\">\n",
       "      <th></th>\n",
       "      <th>SNo</th>\n",
       "      <th>ObservationDate</th>\n",
       "      <th>Province/State</th>\n",
       "      <th>Country/Region</th>\n",
       "      <th>Last Update</th>\n",
       "      <th>Confirmed</th>\n",
       "      <th>Deaths</th>\n",
       "      <th>Recovered</th>\n",
       "    </tr>\n",
       "  </thead>\n",
       "  <tbody>\n",
       "    <tr>\n",
       "      <th>0</th>\n",
       "      <td>1</td>\n",
       "      <td>01/22/2020</td>\n",
       "      <td>Anhui</td>\n",
       "      <td>China</td>\n",
       "      <td>1/22/2020 17:00</td>\n",
       "      <td>1.0</td>\n",
       "      <td>0.0</td>\n",
       "      <td>0.0</td>\n",
       "    </tr>\n",
       "    <tr>\n",
       "      <th>1</th>\n",
       "      <td>2</td>\n",
       "      <td>01/22/2020</td>\n",
       "      <td>Beijing</td>\n",
       "      <td>China</td>\n",
       "      <td>1/22/2020 17:00</td>\n",
       "      <td>14.0</td>\n",
       "      <td>0.0</td>\n",
       "      <td>0.0</td>\n",
       "    </tr>\n",
       "    <tr>\n",
       "      <th>2</th>\n",
       "      <td>3</td>\n",
       "      <td>01/22/2020</td>\n",
       "      <td>Chongqing</td>\n",
       "      <td>China</td>\n",
       "      <td>1/22/2020 17:00</td>\n",
       "      <td>6.0</td>\n",
       "      <td>0.0</td>\n",
       "      <td>0.0</td>\n",
       "    </tr>\n",
       "    <tr>\n",
       "      <th>3</th>\n",
       "      <td>4</td>\n",
       "      <td>01/22/2020</td>\n",
       "      <td>Fujian</td>\n",
       "      <td>China</td>\n",
       "      <td>1/22/2020 17:00</td>\n",
       "      <td>1.0</td>\n",
       "      <td>0.0</td>\n",
       "      <td>0.0</td>\n",
       "    </tr>\n",
       "    <tr>\n",
       "      <th>4</th>\n",
       "      <td>5</td>\n",
       "      <td>01/22/2020</td>\n",
       "      <td>Gansu</td>\n",
       "      <td>China</td>\n",
       "      <td>1/22/2020 17:00</td>\n",
       "      <td>0.0</td>\n",
       "      <td>0.0</td>\n",
       "      <td>0.0</td>\n",
       "    </tr>\n",
       "    <tr>\n",
       "      <th>...</th>\n",
       "      <td>...</td>\n",
       "      <td>...</td>\n",
       "      <td>...</td>\n",
       "      <td>...</td>\n",
       "      <td>...</td>\n",
       "      <td>...</td>\n",
       "      <td>...</td>\n",
       "      <td>...</td>\n",
       "    </tr>\n",
       "    <tr>\n",
       "      <th>306424</th>\n",
       "      <td>306425</td>\n",
       "      <td>05/29/2021</td>\n",
       "      <td>Zaporizhia Oblast</td>\n",
       "      <td>Ukraine</td>\n",
       "      <td>2021-05-30 04:20:55</td>\n",
       "      <td>102641.0</td>\n",
       "      <td>2335.0</td>\n",
       "      <td>95289.0</td>\n",
       "    </tr>\n",
       "    <tr>\n",
       "      <th>306425</th>\n",
       "      <td>306426</td>\n",
       "      <td>05/29/2021</td>\n",
       "      <td>Zeeland</td>\n",
       "      <td>Netherlands</td>\n",
       "      <td>2021-05-30 04:20:55</td>\n",
       "      <td>29147.0</td>\n",
       "      <td>245.0</td>\n",
       "      <td>0.0</td>\n",
       "    </tr>\n",
       "    <tr>\n",
       "      <th>306426</th>\n",
       "      <td>306427</td>\n",
       "      <td>05/29/2021</td>\n",
       "      <td>Zhejiang</td>\n",
       "      <td>China</td>\n",
       "      <td>2021-05-30 04:20:55</td>\n",
       "      <td>1364.0</td>\n",
       "      <td>1.0</td>\n",
       "      <td>1324.0</td>\n",
       "    </tr>\n",
       "    <tr>\n",
       "      <th>306427</th>\n",
       "      <td>306428</td>\n",
       "      <td>05/29/2021</td>\n",
       "      <td>Zhytomyr Oblast</td>\n",
       "      <td>Ukraine</td>\n",
       "      <td>2021-05-30 04:20:55</td>\n",
       "      <td>87550.0</td>\n",
       "      <td>1738.0</td>\n",
       "      <td>83790.0</td>\n",
       "    </tr>\n",
       "    <tr>\n",
       "      <th>306428</th>\n",
       "      <td>306429</td>\n",
       "      <td>05/29/2021</td>\n",
       "      <td>Zuid-Holland</td>\n",
       "      <td>Netherlands</td>\n",
       "      <td>2021-05-30 04:20:55</td>\n",
       "      <td>391559.0</td>\n",
       "      <td>4252.0</td>\n",
       "      <td>0.0</td>\n",
       "    </tr>\n",
       "  </tbody>\n",
       "</table>\n",
       "<p>306429 rows × 8 columns</p>\n",
       "</div>"
      ],
      "text/plain": [
       "           SNo ObservationDate     Province/State Country/Region  \\\n",
       "0            1      01/22/2020              Anhui          China   \n",
       "1            2      01/22/2020            Beijing          China   \n",
       "2            3      01/22/2020          Chongqing          China   \n",
       "3            4      01/22/2020             Fujian          China   \n",
       "4            5      01/22/2020              Gansu          China   \n",
       "...        ...             ...                ...            ...   \n",
       "306424  306425      05/29/2021  Zaporizhia Oblast        Ukraine   \n",
       "306425  306426      05/29/2021            Zeeland    Netherlands   \n",
       "306426  306427      05/29/2021           Zhejiang          China   \n",
       "306427  306428      05/29/2021    Zhytomyr Oblast        Ukraine   \n",
       "306428  306429      05/29/2021       Zuid-Holland    Netherlands   \n",
       "\n",
       "                Last Update  Confirmed  Deaths  Recovered  \n",
       "0           1/22/2020 17:00        1.0     0.0        0.0  \n",
       "1           1/22/2020 17:00       14.0     0.0        0.0  \n",
       "2           1/22/2020 17:00        6.0     0.0        0.0  \n",
       "3           1/22/2020 17:00        1.0     0.0        0.0  \n",
       "4           1/22/2020 17:00        0.0     0.0        0.0  \n",
       "...                     ...        ...     ...        ...  \n",
       "306424  2021-05-30 04:20:55   102641.0  2335.0    95289.0  \n",
       "306425  2021-05-30 04:20:55    29147.0   245.0        0.0  \n",
       "306426  2021-05-30 04:20:55     1364.0     1.0     1324.0  \n",
       "306427  2021-05-30 04:20:55    87550.0  1738.0    83790.0  \n",
       "306428  2021-05-30 04:20:55   391559.0  4252.0        0.0  \n",
       "\n",
       "[306429 rows x 8 columns]"
      ]
     },
     "execution_count": 29,
     "metadata": {},
     "output_type": "execute_result"
    }
   ],
   "source": [
    "df['Country/Region'].replace('Mainland China','China', inplace = True)\n",
    "df"
   ]
  },
  {
   "cell_type": "code",
   "execution_count": 30,
   "metadata": {},
   "outputs": [
    {
     "data": {
      "text/html": [
       "<div>\n",
       "<style scoped>\n",
       "    .dataframe tbody tr th:only-of-type {\n",
       "        vertical-align: middle;\n",
       "    }\n",
       "\n",
       "    .dataframe tbody tr th {\n",
       "        vertical-align: top;\n",
       "    }\n",
       "\n",
       "    .dataframe thead th {\n",
       "        text-align: right;\n",
       "    }\n",
       "</style>\n",
       "<table border=\"1\" class=\"dataframe\">\n",
       "  <thead>\n",
       "    <tr style=\"text-align: right;\">\n",
       "      <th></th>\n",
       "      <th>SNo</th>\n",
       "      <th>ObservationDate</th>\n",
       "      <th>Province/State</th>\n",
       "      <th>Country/Region</th>\n",
       "      <th>Last Update</th>\n",
       "      <th>Confirmed</th>\n",
       "      <th>Deaths</th>\n",
       "      <th>Recovered</th>\n",
       "    </tr>\n",
       "  </thead>\n",
       "  <tbody>\n",
       "    <tr>\n",
       "      <th>0</th>\n",
       "      <td>1</td>\n",
       "      <td>2020-01-22</td>\n",
       "      <td>Anhui</td>\n",
       "      <td>China</td>\n",
       "      <td>2020-01-22 17:00:00</td>\n",
       "      <td>1.0</td>\n",
       "      <td>0.0</td>\n",
       "      <td>0.0</td>\n",
       "    </tr>\n",
       "    <tr>\n",
       "      <th>1</th>\n",
       "      <td>2</td>\n",
       "      <td>2020-01-22</td>\n",
       "      <td>Beijing</td>\n",
       "      <td>China</td>\n",
       "      <td>2020-01-22 17:00:00</td>\n",
       "      <td>14.0</td>\n",
       "      <td>0.0</td>\n",
       "      <td>0.0</td>\n",
       "    </tr>\n",
       "    <tr>\n",
       "      <th>2</th>\n",
       "      <td>3</td>\n",
       "      <td>2020-01-22</td>\n",
       "      <td>Chongqing</td>\n",
       "      <td>China</td>\n",
       "      <td>2020-01-22 17:00:00</td>\n",
       "      <td>6.0</td>\n",
       "      <td>0.0</td>\n",
       "      <td>0.0</td>\n",
       "    </tr>\n",
       "    <tr>\n",
       "      <th>3</th>\n",
       "      <td>4</td>\n",
       "      <td>2020-01-22</td>\n",
       "      <td>Fujian</td>\n",
       "      <td>China</td>\n",
       "      <td>2020-01-22 17:00:00</td>\n",
       "      <td>1.0</td>\n",
       "      <td>0.0</td>\n",
       "      <td>0.0</td>\n",
       "    </tr>\n",
       "    <tr>\n",
       "      <th>4</th>\n",
       "      <td>5</td>\n",
       "      <td>2020-01-22</td>\n",
       "      <td>Gansu</td>\n",
       "      <td>China</td>\n",
       "      <td>2020-01-22 17:00:00</td>\n",
       "      <td>0.0</td>\n",
       "      <td>0.0</td>\n",
       "      <td>0.0</td>\n",
       "    </tr>\n",
       "    <tr>\n",
       "      <th>...</th>\n",
       "      <td>...</td>\n",
       "      <td>...</td>\n",
       "      <td>...</td>\n",
       "      <td>...</td>\n",
       "      <td>...</td>\n",
       "      <td>...</td>\n",
       "      <td>...</td>\n",
       "      <td>...</td>\n",
       "    </tr>\n",
       "    <tr>\n",
       "      <th>306424</th>\n",
       "      <td>306425</td>\n",
       "      <td>2021-05-29</td>\n",
       "      <td>Zaporizhia Oblast</td>\n",
       "      <td>Ukraine</td>\n",
       "      <td>2021-05-30 04:20:55</td>\n",
       "      <td>102641.0</td>\n",
       "      <td>2335.0</td>\n",
       "      <td>95289.0</td>\n",
       "    </tr>\n",
       "    <tr>\n",
       "      <th>306425</th>\n",
       "      <td>306426</td>\n",
       "      <td>2021-05-29</td>\n",
       "      <td>Zeeland</td>\n",
       "      <td>Netherlands</td>\n",
       "      <td>2021-05-30 04:20:55</td>\n",
       "      <td>29147.0</td>\n",
       "      <td>245.0</td>\n",
       "      <td>0.0</td>\n",
       "    </tr>\n",
       "    <tr>\n",
       "      <th>306426</th>\n",
       "      <td>306427</td>\n",
       "      <td>2021-05-29</td>\n",
       "      <td>Zhejiang</td>\n",
       "      <td>China</td>\n",
       "      <td>2021-05-30 04:20:55</td>\n",
       "      <td>1364.0</td>\n",
       "      <td>1.0</td>\n",
       "      <td>1324.0</td>\n",
       "    </tr>\n",
       "    <tr>\n",
       "      <th>306427</th>\n",
       "      <td>306428</td>\n",
       "      <td>2021-05-29</td>\n",
       "      <td>Zhytomyr Oblast</td>\n",
       "      <td>Ukraine</td>\n",
       "      <td>2021-05-30 04:20:55</td>\n",
       "      <td>87550.0</td>\n",
       "      <td>1738.0</td>\n",
       "      <td>83790.0</td>\n",
       "    </tr>\n",
       "    <tr>\n",
       "      <th>306428</th>\n",
       "      <td>306429</td>\n",
       "      <td>2021-05-29</td>\n",
       "      <td>Zuid-Holland</td>\n",
       "      <td>Netherlands</td>\n",
       "      <td>2021-05-30 04:20:55</td>\n",
       "      <td>391559.0</td>\n",
       "      <td>4252.0</td>\n",
       "      <td>0.0</td>\n",
       "    </tr>\n",
       "  </tbody>\n",
       "</table>\n",
       "<p>306429 rows × 8 columns</p>\n",
       "</div>"
      ],
      "text/plain": [
       "           SNo ObservationDate     Province/State Country/Region  \\\n",
       "0            1      2020-01-22              Anhui          China   \n",
       "1            2      2020-01-22            Beijing          China   \n",
       "2            3      2020-01-22          Chongqing          China   \n",
       "3            4      2020-01-22             Fujian          China   \n",
       "4            5      2020-01-22              Gansu          China   \n",
       "...        ...             ...                ...            ...   \n",
       "306424  306425      2021-05-29  Zaporizhia Oblast        Ukraine   \n",
       "306425  306426      2021-05-29            Zeeland    Netherlands   \n",
       "306426  306427      2021-05-29           Zhejiang          China   \n",
       "306427  306428      2021-05-29    Zhytomyr Oblast        Ukraine   \n",
       "306428  306429      2021-05-29       Zuid-Holland    Netherlands   \n",
       "\n",
       "               Last Update  Confirmed  Deaths  Recovered  \n",
       "0      2020-01-22 17:00:00        1.0     0.0        0.0  \n",
       "1      2020-01-22 17:00:00       14.0     0.0        0.0  \n",
       "2      2020-01-22 17:00:00        6.0     0.0        0.0  \n",
       "3      2020-01-22 17:00:00        1.0     0.0        0.0  \n",
       "4      2020-01-22 17:00:00        0.0     0.0        0.0  \n",
       "...                    ...        ...     ...        ...  \n",
       "306424 2021-05-30 04:20:55   102641.0  2335.0    95289.0  \n",
       "306425 2021-05-30 04:20:55    29147.0   245.0        0.0  \n",
       "306426 2021-05-30 04:20:55     1364.0     1.0     1324.0  \n",
       "306427 2021-05-30 04:20:55    87550.0  1738.0    83790.0  \n",
       "306428 2021-05-30 04:20:55   391559.0  4252.0        0.0  \n",
       "\n",
       "[306429 rows x 8 columns]"
      ]
     },
     "execution_count": 30,
     "metadata": {},
     "output_type": "execute_result"
    }
   ],
   "source": [
    "# add your code here\n",
    "df['ObservationDate'] = pd.to_datetime(df['ObservationDate'])\n",
    "df['Last Update'] = pd.to_datetime(df['Last Update'])\n",
    "df"
   ]
  },
  {
   "cell_type": "markdown",
   "metadata": {},
   "source": [
    "## Advanced data campaign 2 - explorative\n",
    "\n",
    "Caution, this is probably the hardest problem in the entire module. It's completely optional, but if the previous tasks were easy for you, I encourage you to try your hand at it. Feel free to discuss your approach during the practical!\n",
    "\n",
    "* plot the number of cases in Hubei and number of recoveries\n",
    "* Can you estimate the recovery lag, i.e. how long is the average duration between recording of a case and recovery?\n",
    "* Can you apply the estimated lag to the calculation of the mortality rate (i.e. calculate mortality rate with appropriate lag)?"
   ]
  },
  {
   "cell_type": "code",
   "execution_count": 31,
   "metadata": {},
   "outputs": [],
   "source": [
    "# add your code here.\n",
    "df = pd.read_csv('covid_19_data23.csv')"
   ]
  },
  {
   "cell_type": "code",
   "execution_count": 32,
   "metadata": {},
   "outputs": [],
   "source": [
    "hubei_data = df[df['Province/State'] == 'Hubei']"
   ]
  },
  {
   "cell_type": "code",
   "execution_count": 33,
   "metadata": {},
   "outputs": [
    {
     "data": {
      "text/plain": [
       "[<matplotlib.lines.Line2D at 0x22f055de490>]"
      ]
     },
     "execution_count": 33,
     "metadata": {},
     "output_type": "execute_result"
    },
    {
     "data": {
      "image/png": "[encoded data removed]",
      "text/plain": [
       "<Figure size 720x432 with 1 Axes>"
      ]
     },
     "metadata": {
      "needs_background": "light"
     },
     "output_type": "display_data"
    }
   ],
   "source": [
    "plt.figure(figsize=(10, 6))\n",
    "plt.plot(hubei_data['ObservationDate'], hubei_data['Confirmed'], label='Confirmed Cases')\n",
    "plt.plot(hubei_data['ObservationDate'], hubei_data['Recovered'], label='Recovered Cases')"
   ]
  },
  {
   "cell_type": "code",
   "execution_count": 34,
   "metadata": {},
   "outputs": [
    {
     "data": {
      "image/png": "[encoded data removed]",
      "text/plain": [
       "<Figure size 432x288 with 1 Axes>"
      ]
     },
     "metadata": {
      "needs_background": "light"
     },
     "output_type": "display_data"
    }
   ],
   "source": [
    "plt.title('COVID-19 Cases and Recoveries in Hubei')\n",
    "plt.xlabel('Date')\n",
    "plt.ylabel('Number of Cases')\n",
    "plt.grid(True)\n",
    "\n",
    "# Show the plot\n",
    "plt.show()"
   ]
  },
  {
   "cell_type": "code",
   "execution_count": 35,
   "metadata": {},
   "outputs": [],
   "source": [
    "# Convert 'ObservationDate' and 'Last Update' to datetime objects\n",
    "df['ObservationDate'] = pd.to_datetime(df['ObservationDate'])\n",
    "df['Last Update'] = pd.to_datetime(df['Last Update'])"
   ]
  },
  {
   "cell_type": "code",
   "execution_count": 36,
   "metadata": {},
   "outputs": [],
   "source": [
    "# Calculate the recovery lag\n",
    "df['Recovery Lag'] = df['Last Update'] - df['ObservationDate']"
   ]
  },
  {
   "cell_type": "code",
   "execution_count": 37,
   "metadata": {},
   "outputs": [],
   "source": [
    "# Calculate the average recovery lag\n",
    "average_recovery_lag = df['Recovery Lag'].mean()"
   ]
  },
  {
   "cell_type": "code",
   "execution_count": 38,
   "metadata": {},
   "outputs": [
    {
     "name": "stdout",
     "output_type": "stream",
     "text": [
      "The average recovery lag is: 124 days 23:19:23.080873544\n"
     ]
    }
   ],
   "source": [
    "print(f\"The average recovery lag is: {average_recovery_lag}\")"
   ]
  },
  {
   "cell_type": "code",
   "execution_count": 39,
   "metadata": {},
   "outputs": [
    {
     "name": "stdout",
     "output_type": "stream",
     "text": [
      "       ObservationDate Adjusted Last Update  Deaths  Confirmed  Mortality Rate\n",
      "0           2020-01-22           2020-01-22     0.0        1.0        0.000000\n",
      "1           2020-01-22           2020-01-22     0.0       14.0        0.000000\n",
      "2           2020-01-22           2020-01-22     0.0        6.0        0.000000\n",
      "3           2020-01-22           2020-01-22     0.0        1.0        0.000000\n",
      "4           2020-01-22           2020-01-22     0.0        0.0             NaN\n",
      "...                ...                  ...     ...        ...             ...\n",
      "306424      2021-05-29           2021-05-29  2335.0   102641.0        0.022749\n",
      "306425      2021-05-29           2021-05-29   245.0    29147.0        0.008406\n",
      "306426      2021-05-29           2021-05-29     1.0     1364.0        0.000733\n",
      "306427      2021-05-29           2021-05-29  1738.0    87550.0        0.019852\n",
      "306428      2021-05-29           2021-05-29  4252.0   391559.0        0.010859\n",
      "\n",
      "[306429 rows x 5 columns]\n"
     ]
    }
   ],
   "source": [
    "# Calculate the recovery lag\n",
    "df['Recovery Lag'] = df['Last Update'] - df['ObservationDate']\n",
    "\n",
    "# Adjust 'Last Update' date by subtracting the estimated lag\n",
    "df['Adjusted Last Update'] = df['Last Update'] - df['Recovery Lag']\n",
    "\n",
    "# Calculate the mortality rate with adjusted recovery date\n",
    "df['Mortality Rate'] = df['Deaths'] / df['Confirmed']\n",
    "\n",
    "# Display of the DataFrame with added columns\n",
    "print(df[['ObservationDate', 'Adjusted Last Update', 'Deaths', 'Confirmed', 'Mortality Rate']])"
   ]
  },
  {
   "cell_type": "code",
   "execution_count": 40,
   "metadata": {},
   "outputs": [
    {
     "name": "stdout",
     "output_type": "stream",
     "text": [
      "The average mortality rate is: nan\n"
     ]
    }
   ],
   "source": [
    "# Calculating the average mortality rate\n",
    "average_mortality_rate = df['Mortality Rate'].mean()\n",
    "\n",
    "print(f\"The average mortality rate is: {average_mortality_rate}\")"
   ]
  },
  {
   "cell_type": "code",
   "execution_count": null,
   "metadata": {},
   "outputs": [],
   "source": []
  }
 ],
 "metadata": {
  "kernelspec": {
   "display_name": "Python 3 (ipykernel)",
   "language": "python",
   "name": "python3"
  },
  "language_info": {
   "codemirror_mode": {
    "name": "ipython",
    "version": 3
   },
   "file_extension": ".py",
   "mimetype": "text/x-python",
   "name": "python",
   "nbconvert_exporter": "python",
   "pygments_lexer": "ipython3",
   "version": "3.11.5"
  }
 },
 "nbformat": 4,
 "nbformat_minor": 4
}
