{
 "cells": [
  {
   "cell_type": "code",
   "execution_count": 1,
   "metadata": {
    "id": "3T4fzVGWVZ5A"
   },
   "outputs": [],
   "source": [
    "import pandas as pd\n",
    "import seaborn as sns\n",
    "\n",
    "# import warnings; warnings.simplefilter('ignore')\n",
    "\n",
    "%matplotlib inline"
   ]
  },
  {
   "cell_type": "markdown",
   "metadata": {
    "id": "nLW3yUgtRUsE"
   },
   "source": [
    "The line below calls the package manager for Python pip and installs a package. We only want to do this once.\n",
    "\n",
    "The first time you run this notebook please uncomment this line and then comment it again to avoid unneccessary installs and checks. You could also use anaconda or pip from the command line to permanently install the package."
   ]
  },
  {
   "cell_type": "code",
   "execution_count": 2,
   "metadata": {
    "id": "7vA7jW2VQONA"
   },
   "outputs": [],
   "source": [
    "# !pip install aequitas"
   ]
  },
  {
   "cell_type": "code",
   "execution_count": 3,
   "metadata": {
    "id": "pBxuxkXeQONB"
   },
   "outputs": [],
   "source": [
    "from aequitas.group import Group\n",
    "from aequitas.bias import Bias\n",
    "from aequitas.fairness import Fairness\n",
    "import aequitas.plot as ap"
   ]
  },
  {
   "cell_type": "code",
   "execution_count": 4,
   "metadata": {
    "id": "odKd2fZjV7-F"
   },
   "outputs": [],
   "source": [
    "df = pd.read_csv(\"https://github.com/dssg/aequitas/raw/master/examples/data/compas_for_aequitas.csv\")"
   ]
  },
  {
   "cell_type": "markdown",
   "metadata": {
    "id": "yPxKSBLaQONC"
   },
   "source": [
    "#### Task 1: Check the contents of the data file in terms of both, attributes-values and number of rows"
   ]
  },
  {
   "cell_type": "code",
   "execution_count": 5,
   "metadata": {
    "id": "LSDgJCplQONE"
   },
   "outputs": [],
   "source": [
    "# Your code for task 1"
   ]
  },
  {
   "cell_type": "code",
   "execution_count": 6,
   "metadata": {
    "id": "v9ZRxo8DW2Cq"
   },
   "outputs": [],
   "source": [
    "# Your code for task 1"
   ]
  },
  {
   "cell_type": "code",
   "execution_count": 7,
   "metadata": {
    "id": "gLw33lvrXyex"
   },
   "outputs": [],
   "source": [
    "aq_palette = sns.diverging_palette(225, 35, n=2)"
   ]
  },
  {
   "cell_type": "code",
   "execution_count": null,
   "metadata": {
    "id": "IU4puPnDX5KI"
   },
   "outputs": [],
   "source": [
    "by_age = sns.countplot(x=\"age_cat\", hue=\"score\", data=df, palette=aq_palette)"
   ]
  },
  {
   "cell_type": "markdown",
   "metadata": {
    "id": "FReHMtjiQONG"
   },
   "source": [
    "#### Task 2: Study the histogram as depicted above and try to interpret the histogram. What is the intention of the data scientist in this case? Subsequently, check the distributions for the same attribute, this time, however, in relation to what has really happened and state your observations by also explaining an indication of a potential bias in the model."
   ]
  },
  {
   "cell_type": "markdown",
   "metadata": {
    "id": "MiQqxS4mQONH"
   },
   "source": [
    "**Your answer for task 2 in this cell:**"
   ]
  },
  {
   "cell_type": "code",
   "execution_count": 9,
   "metadata": {
    "id": "bFxF0awHQONH"
   },
   "outputs": [],
   "source": [
    "# Your code for task 2"
   ]
  },
  {
   "cell_type": "markdown",
   "metadata": {
    "id": "Q-e8851ZQONI"
   },
   "source": [
    "#### Task 3: Repeat the previous explorations. this time, however, for the other two attributes: race and gender. Susequently, interpret  the results and explain any indication of a potential bias in the model."
   ]
  },
  {
   "cell_type": "code",
   "execution_count": 10,
   "metadata": {
    "id": "IxRzjjm_kfuw"
   },
   "outputs": [],
   "source": [
    "# Your code for task3"
   ]
  },
  {
   "cell_type": "code",
   "execution_count": 11,
   "metadata": {
    "id": "hsnzeoo5QONI"
   },
   "outputs": [],
   "source": [
    "# Your code for task 3"
   ]
  },
  {
   "cell_type": "markdown",
   "metadata": {
    "id": "6b8tkPV6QONJ"
   },
   "source": [
    "**Your answer for task 3 in this cell: **"
   ]
  },
  {
   "cell_type": "code",
   "execution_count": null,
   "metadata": {
    "id": "ja81ho01H_l7"
   },
   "outputs": [],
   "source": [
    "g = Group()\n",
    "xtab, _ = g.get_crosstabs(df)"
   ]
  },
  {
   "cell_type": "code",
   "execution_count": null,
   "metadata": {
    "id": "K9IbsWnDJ09q"
   },
   "outputs": [],
   "source": [
    "absolute_metrics = g.list_absolute_metrics(xtab)"
   ]
  },
  {
   "cell_type": "code",
   "execution_count": null,
   "metadata": {
    "id": "XGItfXboKCST"
   },
   "outputs": [],
   "source": [
    "xtab[[col for col in xtab.columns if col not in absolute_metrics]]"
   ]
  },
  {
   "cell_type": "code",
   "execution_count": null,
   "metadata": {
    "id": "pcs5vZjMLsVj"
   },
   "outputs": [],
   "source": [
    "xtab[['attribute_name', 'attribute_value'] + absolute_metrics].round(2)"
   ]
  },
  {
   "cell_type": "markdown",
   "metadata": {
    "id": "Z1YL35JJQONK"
   },
   "source": [
    "#### Task 4: Study the two tables above with the metrics and suggest those metrics, which may further indicate bias by constrasting groups for the attribute \"race\" and \"age_cat\". As a guidance for the selected metrics, you should consider the model and its application as being a \"punitive example\" rather than an \"assistive\" one. Justify your answer regarding indicative bias. You should also give the definition for each selected metric."
   ]
  },
  {
   "cell_type": "markdown",
   "metadata": {
    "id": "-ONO-QsJQONL"
   },
   "source": [
    "**Your answer for task 4 in this cell:**"
   ]
  },
  {
   "cell_type": "markdown",
   "metadata": {
    "id": "liiG7epnQONL"
   },
   "source": [
    "#### Task 5: In the following, fill in the missing pieces of code to the disparities among all possible groups and for all of the above metrics. Disparities are calculated as a ratio of a metric for a group of interest compared to a base group. In our case, you should set the follwoing groups as base rate: Caucasian / Male /  Age 25-45."
   ]
  },
  {
   "cell_type": "code",
   "execution_count": null,
   "metadata": {
    "id": "MUoV1qibPxIj"
   },
   "outputs": [],
   "source": [
    "b = Bias()"
   ]
  },
  {
   "cell_type": "code",
   "execution_count": null,
   "metadata": {
    "id": "kiDyk4HqP8sj"
   },
   "outputs": [],
   "source": [
    "bdf = b.get_disparity_predefined_groups(xtab, original_df=df,\n",
    "                                        ref_groups_dict={<YOUR ENTRIES>},\n",
    "                                        alpha=0.05, check_significance=True,\n",
    "                                        mask_significance=True)\n",
    "bdf.style"
   ]
  },
  {
   "cell_type": "code",
   "execution_count": null,
   "metadata": {
    "id": "mynVYwoaQXtx"
   },
   "outputs": [],
   "source": [
    "# View disparity metrics added to dataframe\n",
    "bdf[['attribute_name', 'attribute_value'] +\n",
    "     b.list_disparities(bdf) + b.list_significance(bdf)].style"
   ]
  },
  {
   "cell_type": "code",
   "execution_count": null,
   "metadata": {
    "id": "Wz8_eJULQcu2"
   },
   "outputs": [],
   "source": [
    "metrics = ['fpr','fdr']\n",
    "disparity_tolerance = 1.25"
   ]
  },
  {
   "cell_type": "markdown",
   "metadata": {
    "id": "QgYHieFlQONO"
   },
   "source": [
    "#### Task 6: Having observed the code in the cell above, which values for which disparities are highly likely to indicate bias in the disparity table above?"
   ]
  },
  {
   "cell_type": "markdown",
   "metadata": {
    "id": "DxnfqKNzQONO"
   },
   "source": [
    "**Your answer for task 6 in this cell:**"
   ]
  }
 ],
 "metadata": {
  "colab": {
   "provenance": []
  },
  "kernelspec": {
   "display_name": "Python 3 (ipykernel)",
   "language": "python",
   "name": "python3"
  },
  "language_info": {
   "codemirror_mode": {
    "name": "ipython",
    "version": 3
   },
   "file_extension": ".py",
   "mimetype": "text/x-python",
   "name": "python",
   "nbconvert_exporter": "python",
   "pygments_lexer": "ipython3",
   "version": "3.11.5"
  }
 },
 "nbformat": 4,
 "nbformat_minor": 1
}
